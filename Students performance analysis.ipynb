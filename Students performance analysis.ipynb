{
 "cells": [
  {
   "cell_type": "markdown",
   "id": "7905e7f0",
   "metadata": {
    "papermill": {
     "duration": 0.012809,
     "end_time": "2022-10-18T10:49:00.249935",
     "exception": false,
     "start_time": "2022-10-18T10:49:00.237126",
     "status": "completed"
    },
    "tags": []
   },
   "source": [
    "> <div class=\"alert alert-block alert-info\">\n",
    "<b></b> <strong>Import Libraries</strong></div>"
   ]
  },
  {
   "cell_type": "code",
   "execution_count": 16,
   "id": "1071b602",
   "metadata": {
    "execution": {
     "iopub.execute_input": "2022-10-18T10:49:00.278833Z",
     "iopub.status.busy": "2022-10-18T10:49:00.278421Z",
     "iopub.status.idle": "2022-10-18T10:49:01.411247Z",
     "shell.execute_reply": "2022-10-18T10:49:01.410010Z"
    },
    "papermill": {
     "duration": 1.151079,
     "end_time": "2022-10-18T10:49:01.414061",
     "exception": false,
     "start_time": "2022-10-18T10:49:00.262982",
     "status": "completed"
    },
    "tags": []
   },
   "outputs": [],
   "source": [
    "import numpy as np \n",
    "import pandas as pd \n",
    "import seaborn as sns \n",
    "import matplotlib.pyplot as plt\n",
    "import warnings \n",
    "warnings.filterwarnings('ignore')"
   ]
  },
  {
   "cell_type": "markdown",
   "id": "137756da",
   "metadata": {
    "papermill": {
     "duration": 0.013098,
     "end_time": "2022-10-18T10:49:01.441122",
     "exception": false,
     "start_time": "2022-10-18T10:49:01.428024",
     "status": "completed"
    },
    "tags": []
   },
   "source": [
    "> <div class=\"alert alert-block alert-info\">\n",
    "<b></b> <strong>Data Reading</strong></div>"
   ]
  },
  {
   "cell_type": "code",
   "execution_count": 2,
   "id": "d988e22c",
   "metadata": {
    "execution": {
     "iopub.execute_input": "2022-10-18T10:49:01.469238Z",
     "iopub.status.busy": "2022-10-18T10:49:01.468551Z",
     "iopub.status.idle": "2022-10-18T10:49:01.517802Z",
     "shell.execute_reply": "2022-10-18T10:49:01.516576Z"
    },
    "papermill": {
     "duration": 0.066798,
     "end_time": "2022-10-18T10:49:01.520838",
     "exception": false,
     "start_time": "2022-10-18T10:49:01.454040",
     "status": "completed"
    },
    "tags": []
   },
   "outputs": [],
   "source": [
    "import os\n",
    "os.chdir(\"C:\\\\Users\\\\benwi\\\\Downloads\\\\ML-PROJECT\\\\STUDENT\")\n",
    "\n",
    "#Read the cars.csv data\n",
    "import pandas as pd\n",
    "df = pd.read_csv(\"exams.csv\")"
   ]
  },
  {
   "cell_type": "markdown",
   "id": "9bc8e38a",
   "metadata": {
    "papermill": {
     "duration": 0.014174,
     "end_time": "2022-10-18T10:49:01.555434",
     "exception": false,
     "start_time": "2022-10-18T10:49:01.541260",
     "status": "completed"
    },
    "tags": []
   },
   "source": [
    "> <div class=\"alert alert-block alert-info\">\n",
    "<b></b> <strong>information about data</strong></div>"
   ]
  },
  {
   "cell_type": "code",
   "execution_count": 3,
   "id": "56a8d7a3",
   "metadata": {
    "execution": {
     "iopub.execute_input": "2022-10-18T10:49:01.591551Z",
     "iopub.status.busy": "2022-10-18T10:49:01.591117Z",
     "iopub.status.idle": "2022-10-18T10:49:01.606141Z",
     "shell.execute_reply": "2022-10-18T10:49:01.605056Z"
    },
    "papermill": {
     "duration": 0.034364,
     "end_time": "2022-10-18T10:49:01.608399",
     "exception": false,
     "start_time": "2022-10-18T10:49:01.574035",
     "status": "completed"
    },
    "tags": []
   },
   "outputs": [
    {
     "data": {
      "text/html": [
       "<div>\n",
       "<style scoped>\n",
       "    .dataframe tbody tr th:only-of-type {\n",
       "        vertical-align: middle;\n",
       "    }\n",
       "\n",
       "    .dataframe tbody tr th {\n",
       "        vertical-align: top;\n",
       "    }\n",
       "\n",
       "    .dataframe thead th {\n",
       "        text-align: right;\n",
       "    }\n",
       "</style>\n",
       "<table border=\"1\" class=\"dataframe\">\n",
       "  <thead>\n",
       "    <tr style=\"text-align: right;\">\n",
       "      <th></th>\n",
       "      <th>gender</th>\n",
       "      <th>race/ethnicity</th>\n",
       "      <th>parental level of education</th>\n",
       "      <th>lunch</th>\n",
       "      <th>test preparation course</th>\n",
       "      <th>math score</th>\n",
       "      <th>reading score</th>\n",
       "      <th>writing score</th>\n",
       "    </tr>\n",
       "  </thead>\n",
       "  <tbody>\n",
       "    <tr>\n",
       "      <th>0</th>\n",
       "      <td>male</td>\n",
       "      <td>group A</td>\n",
       "      <td>high school</td>\n",
       "      <td>standard</td>\n",
       "      <td>completed</td>\n",
       "      <td>67</td>\n",
       "      <td>67</td>\n",
       "      <td>63</td>\n",
       "    </tr>\n",
       "    <tr>\n",
       "      <th>1</th>\n",
       "      <td>female</td>\n",
       "      <td>group D</td>\n",
       "      <td>some high school</td>\n",
       "      <td>free/reduced</td>\n",
       "      <td>none</td>\n",
       "      <td>40</td>\n",
       "      <td>59</td>\n",
       "      <td>55</td>\n",
       "    </tr>\n",
       "    <tr>\n",
       "      <th>2</th>\n",
       "      <td>male</td>\n",
       "      <td>group E</td>\n",
       "      <td>some college</td>\n",
       "      <td>free/reduced</td>\n",
       "      <td>none</td>\n",
       "      <td>59</td>\n",
       "      <td>60</td>\n",
       "      <td>50</td>\n",
       "    </tr>\n",
       "    <tr>\n",
       "      <th>3</th>\n",
       "      <td>male</td>\n",
       "      <td>group B</td>\n",
       "      <td>high school</td>\n",
       "      <td>standard</td>\n",
       "      <td>none</td>\n",
       "      <td>77</td>\n",
       "      <td>78</td>\n",
       "      <td>68</td>\n",
       "    </tr>\n",
       "    <tr>\n",
       "      <th>4</th>\n",
       "      <td>male</td>\n",
       "      <td>group E</td>\n",
       "      <td>associate's degree</td>\n",
       "      <td>standard</td>\n",
       "      <td>completed</td>\n",
       "      <td>78</td>\n",
       "      <td>73</td>\n",
       "      <td>68</td>\n",
       "    </tr>\n",
       "  </tbody>\n",
       "</table>\n",
       "</div>"
      ],
      "text/plain": [
       "   gender race/ethnicity parental level of education         lunch  \\\n",
       "0    male        group A                 high school      standard   \n",
       "1  female        group D            some high school  free/reduced   \n",
       "2    male        group E                some college  free/reduced   \n",
       "3    male        group B                 high school      standard   \n",
       "4    male        group E          associate's degree      standard   \n",
       "\n",
       "  test preparation course  math score  reading score  writing score  \n",
       "0               completed          67             67             63  \n",
       "1                    none          40             59             55  \n",
       "2                    none          59             60             50  \n",
       "3                    none          77             78             68  \n",
       "4               completed          78             73             68  "
      ]
     },
     "execution_count": 3,
     "metadata": {},
     "output_type": "execute_result"
    }
   ],
   "source": [
    "df.head()"
   ]
  },
  {
   "cell_type": "code",
   "execution_count": 4,
   "id": "79ed181a",
   "metadata": {
    "execution": {
     "iopub.execute_input": "2022-10-18T10:49:01.637469Z",
     "iopub.status.busy": "2022-10-18T10:49:01.636702Z",
     "iopub.status.idle": "2022-10-18T10:49:01.667065Z",
     "shell.execute_reply": "2022-10-18T10:49:01.665784Z"
    },
    "papermill": {
     "duration": 0.047746,
     "end_time": "2022-10-18T10:49:01.669543",
     "exception": false,
     "start_time": "2022-10-18T10:49:01.621797",
     "status": "completed"
    },
    "tags": []
   },
   "outputs": [
    {
     "data": {
      "text/html": [
       "<div>\n",
       "<style scoped>\n",
       "    .dataframe tbody tr th:only-of-type {\n",
       "        vertical-align: middle;\n",
       "    }\n",
       "\n",
       "    .dataframe tbody tr th {\n",
       "        vertical-align: top;\n",
       "    }\n",
       "\n",
       "    .dataframe thead th {\n",
       "        text-align: right;\n",
       "    }\n",
       "</style>\n",
       "<table border=\"1\" class=\"dataframe\">\n",
       "  <thead>\n",
       "    <tr style=\"text-align: right;\">\n",
       "      <th></th>\n",
       "      <th>math score</th>\n",
       "      <th>reading score</th>\n",
       "      <th>writing score</th>\n",
       "    </tr>\n",
       "  </thead>\n",
       "  <tbody>\n",
       "    <tr>\n",
       "      <th>count</th>\n",
       "      <td>1000.000000</td>\n",
       "      <td>1000.000000</td>\n",
       "      <td>1000.000000</td>\n",
       "    </tr>\n",
       "    <tr>\n",
       "      <th>mean</th>\n",
       "      <td>66.396000</td>\n",
       "      <td>69.002000</td>\n",
       "      <td>67.738000</td>\n",
       "    </tr>\n",
       "    <tr>\n",
       "      <th>std</th>\n",
       "      <td>15.402871</td>\n",
       "      <td>14.737272</td>\n",
       "      <td>15.600985</td>\n",
       "    </tr>\n",
       "    <tr>\n",
       "      <th>min</th>\n",
       "      <td>13.000000</td>\n",
       "      <td>27.000000</td>\n",
       "      <td>23.000000</td>\n",
       "    </tr>\n",
       "    <tr>\n",
       "      <th>25%</th>\n",
       "      <td>56.000000</td>\n",
       "      <td>60.000000</td>\n",
       "      <td>58.000000</td>\n",
       "    </tr>\n",
       "    <tr>\n",
       "      <th>50%</th>\n",
       "      <td>66.500000</td>\n",
       "      <td>70.000000</td>\n",
       "      <td>68.000000</td>\n",
       "    </tr>\n",
       "    <tr>\n",
       "      <th>75%</th>\n",
       "      <td>77.000000</td>\n",
       "      <td>79.000000</td>\n",
       "      <td>79.000000</td>\n",
       "    </tr>\n",
       "    <tr>\n",
       "      <th>max</th>\n",
       "      <td>100.000000</td>\n",
       "      <td>100.000000</td>\n",
       "      <td>100.000000</td>\n",
       "    </tr>\n",
       "  </tbody>\n",
       "</table>\n",
       "</div>"
      ],
      "text/plain": [
       "        math score  reading score  writing score\n",
       "count  1000.000000    1000.000000    1000.000000\n",
       "mean     66.396000      69.002000      67.738000\n",
       "std      15.402871      14.737272      15.600985\n",
       "min      13.000000      27.000000      23.000000\n",
       "25%      56.000000      60.000000      58.000000\n",
       "50%      66.500000      70.000000      68.000000\n",
       "75%      77.000000      79.000000      79.000000\n",
       "max     100.000000     100.000000     100.000000"
      ]
     },
     "execution_count": 4,
     "metadata": {},
     "output_type": "execute_result"
    }
   ],
   "source": [
    "df.describe()"
   ]
  },
  {
   "cell_type": "code",
   "execution_count": 5,
   "id": "a61985ca",
   "metadata": {
    "execution": {
     "iopub.execute_input": "2022-10-18T10:49:01.699127Z",
     "iopub.status.busy": "2022-10-18T10:49:01.698703Z",
     "iopub.status.idle": "2022-10-18T10:49:01.708080Z",
     "shell.execute_reply": "2022-10-18T10:49:01.706873Z"
    },
    "papermill": {
     "duration": 0.027344,
     "end_time": "2022-10-18T10:49:01.710530",
     "exception": false,
     "start_time": "2022-10-18T10:49:01.683186",
     "status": "completed"
    },
    "tags": []
   },
   "outputs": [
    {
     "data": {
      "text/plain": [
       "gender                         object\n",
       "race/ethnicity                 object\n",
       "parental level of education    object\n",
       "lunch                          object\n",
       "test preparation course        object\n",
       "math score                      int64\n",
       "reading score                   int64\n",
       "writing score                   int64\n",
       "dtype: object"
      ]
     },
     "execution_count": 5,
     "metadata": {},
     "output_type": "execute_result"
    }
   ],
   "source": [
    "df.dtypes"
   ]
  },
  {
   "cell_type": "code",
   "execution_count": 6,
   "id": "f32388cd",
   "metadata": {
    "execution": {
     "iopub.execute_input": "2022-10-18T10:49:01.741652Z",
     "iopub.status.busy": "2022-10-18T10:49:01.740450Z",
     "iopub.status.idle": "2022-10-18T10:49:01.758092Z",
     "shell.execute_reply": "2022-10-18T10:49:01.756799Z"
    },
    "papermill": {
     "duration": 0.035267,
     "end_time": "2022-10-18T10:49:01.760407",
     "exception": false,
     "start_time": "2022-10-18T10:49:01.725140",
     "status": "completed"
    },
    "tags": []
   },
   "outputs": [
    {
     "name": "stdout",
     "output_type": "stream",
     "text": [
      "<class 'pandas.core.frame.DataFrame'>\n",
      "RangeIndex: 1000 entries, 0 to 999\n",
      "Data columns (total 8 columns):\n",
      " #   Column                       Non-Null Count  Dtype \n",
      "---  ------                       --------------  ----- \n",
      " 0   gender                       1000 non-null   object\n",
      " 1   race/ethnicity               1000 non-null   object\n",
      " 2   parental level of education  1000 non-null   object\n",
      " 3   lunch                        1000 non-null   object\n",
      " 4   test preparation course      1000 non-null   object\n",
      " 5   math score                   1000 non-null   int64 \n",
      " 6   reading score                1000 non-null   int64 \n",
      " 7   writing score                1000 non-null   int64 \n",
      "dtypes: int64(3), object(5)\n",
      "memory usage: 62.6+ KB\n"
     ]
    }
   ],
   "source": [
    "df.info()"
   ]
  },
  {
   "cell_type": "code",
   "execution_count": 7,
   "id": "75304e6a",
   "metadata": {
    "execution": {
     "iopub.execute_input": "2022-10-18T10:49:01.792481Z",
     "iopub.status.busy": "2022-10-18T10:49:01.791054Z",
     "iopub.status.idle": "2022-10-18T10:49:01.800943Z",
     "shell.execute_reply": "2022-10-18T10:49:01.799951Z"
    },
    "papermill": {
     "duration": 0.027831,
     "end_time": "2022-10-18T10:49:01.803203",
     "exception": false,
     "start_time": "2022-10-18T10:49:01.775372",
     "status": "completed"
    },
    "tags": []
   },
   "outputs": [
    {
     "data": {
      "text/plain": [
       "gender                         0\n",
       "race/ethnicity                 0\n",
       "parental level of education    0\n",
       "lunch                          0\n",
       "test preparation course        0\n",
       "math score                     0\n",
       "reading score                  0\n",
       "writing score                  0\n",
       "dtype: int64"
      ]
     },
     "execution_count": 7,
     "metadata": {},
     "output_type": "execute_result"
    }
   ],
   "source": [
    "df.isnull().sum()"
   ]
  },
  {
   "cell_type": "code",
   "execution_count": 8,
   "id": "d56cc35b",
   "metadata": {
    "execution": {
     "iopub.execute_input": "2022-10-18T10:49:01.835197Z",
     "iopub.status.busy": "2022-10-18T10:49:01.834394Z",
     "iopub.status.idle": "2022-10-18T10:49:01.842082Z",
     "shell.execute_reply": "2022-10-18T10:49:01.840992Z"
    },
    "papermill": {
     "duration": 0.026533,
     "end_time": "2022-10-18T10:49:01.844384",
     "exception": false,
     "start_time": "2022-10-18T10:49:01.817851",
     "status": "completed"
    },
    "tags": []
   },
   "outputs": [
    {
     "data": {
      "text/plain": [
       "(1000, 8)"
      ]
     },
     "execution_count": 8,
     "metadata": {},
     "output_type": "execute_result"
    }
   ],
   "source": [
    "df.shape"
   ]
  },
  {
   "cell_type": "code",
   "execution_count": 9,
   "id": "1fa236b8",
   "metadata": {
    "execution": {
     "iopub.execute_input": "2022-10-18T10:49:01.874785Z",
     "iopub.status.busy": "2022-10-18T10:49:01.874340Z",
     "iopub.status.idle": "2022-10-18T10:49:01.881953Z",
     "shell.execute_reply": "2022-10-18T10:49:01.880664Z"
    },
    "papermill": {
     "duration": 0.025444,
     "end_time": "2022-10-18T10:49:01.884422",
     "exception": false,
     "start_time": "2022-10-18T10:49:01.858978",
     "status": "completed"
    },
    "tags": []
   },
   "outputs": [
    {
     "data": {
      "text/plain": [
       "Index(['gender', 'race/ethnicity', 'parental level of education', 'lunch',\n",
       "       'test preparation course', 'math score', 'reading score',\n",
       "       'writing score'],\n",
       "      dtype='object')"
      ]
     },
     "execution_count": 9,
     "metadata": {},
     "output_type": "execute_result"
    }
   ],
   "source": [
    "df.columns"
   ]
  },
  {
   "cell_type": "code",
   "execution_count": 10,
   "id": "0934eded",
   "metadata": {
    "execution": {
     "iopub.execute_input": "2022-10-18T10:49:01.916798Z",
     "iopub.status.busy": "2022-10-18T10:49:01.915628Z",
     "iopub.status.idle": "2022-10-18T10:49:01.930138Z",
     "shell.execute_reply": "2022-10-18T10:49:01.928805Z"
    },
    "papermill": {
     "duration": 0.033217,
     "end_time": "2022-10-18T10:49:01.932318",
     "exception": false,
     "start_time": "2022-10-18T10:49:01.899101",
     "status": "completed"
    },
    "tags": []
   },
   "outputs": [
    {
     "data": {
      "text/html": [
       "<div>\n",
       "<style scoped>\n",
       "    .dataframe tbody tr th:only-of-type {\n",
       "        vertical-align: middle;\n",
       "    }\n",
       "\n",
       "    .dataframe tbody tr th {\n",
       "        vertical-align: top;\n",
       "    }\n",
       "\n",
       "    .dataframe thead th {\n",
       "        text-align: right;\n",
       "    }\n",
       "</style>\n",
       "<table border=\"1\" class=\"dataframe\">\n",
       "  <thead>\n",
       "    <tr style=\"text-align: right;\">\n",
       "      <th></th>\n",
       "      <th>gender</th>\n",
       "      <th>race/ethnicity</th>\n",
       "      <th>parental level of education</th>\n",
       "      <th>lunch</th>\n",
       "      <th>test preparation course</th>\n",
       "      <th>math score</th>\n",
       "      <th>reading score</th>\n",
       "      <th>writing score</th>\n",
       "    </tr>\n",
       "  </thead>\n",
       "  <tbody>\n",
       "    <tr>\n",
       "      <th>0</th>\n",
       "      <td>male</td>\n",
       "      <td>group A</td>\n",
       "      <td>high school</td>\n",
       "      <td>standard</td>\n",
       "      <td>completed</td>\n",
       "      <td>67</td>\n",
       "      <td>67</td>\n",
       "      <td>63</td>\n",
       "    </tr>\n",
       "    <tr>\n",
       "      <th>1</th>\n",
       "      <td>female</td>\n",
       "      <td>group D</td>\n",
       "      <td>some high school</td>\n",
       "      <td>free/reduced</td>\n",
       "      <td>none</td>\n",
       "      <td>40</td>\n",
       "      <td>59</td>\n",
       "      <td>55</td>\n",
       "    </tr>\n",
       "    <tr>\n",
       "      <th>2</th>\n",
       "      <td>male</td>\n",
       "      <td>group E</td>\n",
       "      <td>some college</td>\n",
       "      <td>free/reduced</td>\n",
       "      <td>none</td>\n",
       "      <td>59</td>\n",
       "      <td>60</td>\n",
       "      <td>50</td>\n",
       "    </tr>\n",
       "    <tr>\n",
       "      <th>3</th>\n",
       "      <td>male</td>\n",
       "      <td>group B</td>\n",
       "      <td>high school</td>\n",
       "      <td>standard</td>\n",
       "      <td>none</td>\n",
       "      <td>77</td>\n",
       "      <td>78</td>\n",
       "      <td>68</td>\n",
       "    </tr>\n",
       "    <tr>\n",
       "      <th>4</th>\n",
       "      <td>male</td>\n",
       "      <td>group E</td>\n",
       "      <td>associate's degree</td>\n",
       "      <td>standard</td>\n",
       "      <td>completed</td>\n",
       "      <td>78</td>\n",
       "      <td>73</td>\n",
       "      <td>68</td>\n",
       "    </tr>\n",
       "  </tbody>\n",
       "</table>\n",
       "</div>"
      ],
      "text/plain": [
       "   gender race/ethnicity parental level of education         lunch  \\\n",
       "0    male        group A                 high school      standard   \n",
       "1  female        group D            some high school  free/reduced   \n",
       "2    male        group E                some college  free/reduced   \n",
       "3    male        group B                 high school      standard   \n",
       "4    male        group E          associate's degree      standard   \n",
       "\n",
       "  test preparation course  math score  reading score  writing score  \n",
       "0               completed          67             67             63  \n",
       "1                    none          40             59             55  \n",
       "2                    none          59             60             50  \n",
       "3                    none          77             78             68  \n",
       "4               completed          78             73             68  "
      ]
     },
     "execution_count": 10,
     "metadata": {},
     "output_type": "execute_result"
    }
   ],
   "source": [
    "df.head()"
   ]
  },
  {
   "cell_type": "markdown",
   "id": "b51d50b7",
   "metadata": {
    "papermill": {
     "duration": 0.014193,
     "end_time": "2022-10-18T10:49:01.961030",
     "exception": false,
     "start_time": "2022-10-18T10:49:01.946837",
     "status": "completed"
    },
    "tags": []
   },
   "source": [
    "> <div class=\"alert alert-block alert-info\">\n",
    "<b></b> <strong>Rename</strong></div>"
   ]
  },
  {
   "cell_type": "code",
   "execution_count": 11,
   "id": "f1b861b0",
   "metadata": {
    "execution": {
     "iopub.execute_input": "2022-10-18T10:49:01.993248Z",
     "iopub.status.busy": "2022-10-18T10:49:01.992176Z",
     "iopub.status.idle": "2022-10-18T10:49:02.008823Z",
     "shell.execute_reply": "2022-10-18T10:49:02.007626Z"
    },
    "papermill": {
     "duration": 0.035696,
     "end_time": "2022-10-18T10:49:02.011134",
     "exception": false,
     "start_time": "2022-10-18T10:49:01.975438",
     "status": "completed"
    },
    "tags": []
   },
   "outputs": [
    {
     "data": {
      "text/html": [
       "<div>\n",
       "<style scoped>\n",
       "    .dataframe tbody tr th:only-of-type {\n",
       "        vertical-align: middle;\n",
       "    }\n",
       "\n",
       "    .dataframe tbody tr th {\n",
       "        vertical-align: top;\n",
       "    }\n",
       "\n",
       "    .dataframe thead th {\n",
       "        text-align: right;\n",
       "    }\n",
       "</style>\n",
       "<table border=\"1\" class=\"dataframe\">\n",
       "  <thead>\n",
       "    <tr style=\"text-align: right;\">\n",
       "      <th></th>\n",
       "      <th>gender</th>\n",
       "      <th>race_ethnicity</th>\n",
       "      <th>Education</th>\n",
       "      <th>lunch</th>\n",
       "      <th>test_preparation_course</th>\n",
       "      <th>math_score</th>\n",
       "      <th>reading_score</th>\n",
       "      <th>writing_score</th>\n",
       "    </tr>\n",
       "  </thead>\n",
       "  <tbody>\n",
       "    <tr>\n",
       "      <th>0</th>\n",
       "      <td>male</td>\n",
       "      <td>group A</td>\n",
       "      <td>high school</td>\n",
       "      <td>standard</td>\n",
       "      <td>completed</td>\n",
       "      <td>67</td>\n",
       "      <td>67</td>\n",
       "      <td>63</td>\n",
       "    </tr>\n",
       "    <tr>\n",
       "      <th>1</th>\n",
       "      <td>female</td>\n",
       "      <td>group D</td>\n",
       "      <td>some high school</td>\n",
       "      <td>free/reduced</td>\n",
       "      <td>none</td>\n",
       "      <td>40</td>\n",
       "      <td>59</td>\n",
       "      <td>55</td>\n",
       "    </tr>\n",
       "    <tr>\n",
       "      <th>2</th>\n",
       "      <td>male</td>\n",
       "      <td>group E</td>\n",
       "      <td>some college</td>\n",
       "      <td>free/reduced</td>\n",
       "      <td>none</td>\n",
       "      <td>59</td>\n",
       "      <td>60</td>\n",
       "      <td>50</td>\n",
       "    </tr>\n",
       "    <tr>\n",
       "      <th>3</th>\n",
       "      <td>male</td>\n",
       "      <td>group B</td>\n",
       "      <td>high school</td>\n",
       "      <td>standard</td>\n",
       "      <td>none</td>\n",
       "      <td>77</td>\n",
       "      <td>78</td>\n",
       "      <td>68</td>\n",
       "    </tr>\n",
       "    <tr>\n",
       "      <th>4</th>\n",
       "      <td>male</td>\n",
       "      <td>group E</td>\n",
       "      <td>associate's degree</td>\n",
       "      <td>standard</td>\n",
       "      <td>completed</td>\n",
       "      <td>78</td>\n",
       "      <td>73</td>\n",
       "      <td>68</td>\n",
       "    </tr>\n",
       "  </tbody>\n",
       "</table>\n",
       "</div>"
      ],
      "text/plain": [
       "   gender race_ethnicity           Education         lunch  \\\n",
       "0    male        group A         high school      standard   \n",
       "1  female        group D    some high school  free/reduced   \n",
       "2    male        group E        some college  free/reduced   \n",
       "3    male        group B         high school      standard   \n",
       "4    male        group E  associate's degree      standard   \n",
       "\n",
       "  test_preparation_course  math_score  reading_score  writing_score  \n",
       "0               completed          67             67             63  \n",
       "1                    none          40             59             55  \n",
       "2                    none          59             60             50  \n",
       "3                    none          77             78             68  \n",
       "4               completed          78             73             68  "
      ]
     },
     "execution_count": 11,
     "metadata": {},
     "output_type": "execute_result"
    }
   ],
   "source": [
    "df=df.rename(columns={\"race/ethnicity\":\"race_ethnicity\",\"parental level of education\":\"Education\",\"test preparation course\":\"test_preparation_course\",\"math score\":\"math_score\",\"reading score\":\"reading_score\",\"writing score\":\"writing_score\"})\n",
    "df.head()"
   ]
  },
  {
   "cell_type": "markdown",
   "id": "c6e80446",
   "metadata": {
    "papermill": {
     "duration": 0.014636,
     "end_time": "2022-10-18T10:49:02.040502",
     "exception": false,
     "start_time": "2022-10-18T10:49:02.025866",
     "status": "completed"
    },
    "tags": []
   },
   "source": [
    "> <div class=\"alert alert-block alert-info\">\n",
    "<b></b> <strong>DATA VISUALIZATION</strong></div>"
   ]
  },
  {
   "cell_type": "code",
   "execution_count": 12,
   "id": "d8b7f771",
   "metadata": {
    "execution": {
     "iopub.execute_input": "2022-10-18T10:49:02.072397Z",
     "iopub.status.busy": "2022-10-18T10:49:02.071178Z",
     "iopub.status.idle": "2022-10-18T10:49:02.078610Z",
     "shell.execute_reply": "2022-10-18T10:49:02.077785Z"
    },
    "papermill": {
     "duration": 0.025994,
     "end_time": "2022-10-18T10:49:02.081261",
     "exception": false,
     "start_time": "2022-10-18T10:49:02.055267",
     "status": "completed"
    },
    "tags": []
   },
   "outputs": [],
   "source": [
    "def bar_plot(variable):\n",
    "\n",
    "    var = df[variable]\n",
    "    \n",
    "    varValue = var.value_counts()\n",
    "    \n",
    "\n",
    "    plt.figure(figsize =(5,5))\n",
    "    plt.bar(varValue.index, varValue)\n",
    "    plt.xticks(varValue.index, varValue.index.values,rotation=45)\n",
    "    plt.ylabel(\"Frequency\")\n",
    "    plt.title(variable)\n",
    "    plt.show()\n",
    "    print(\"{}: \\n {}\".format(variable,varValue))"
   ]
  },
  {
   "cell_type": "code",
   "execution_count": 13,
   "id": "aa9fc305",
   "metadata": {
    "execution": {
     "iopub.execute_input": "2022-10-18T10:49:02.113920Z",
     "iopub.status.busy": "2022-10-18T10:49:02.113433Z",
     "iopub.status.idle": "2022-10-18T10:49:02.927971Z",
     "shell.execute_reply": "2022-10-18T10:49:02.926698Z"
    },
    "papermill": {
     "duration": 0.833572,
     "end_time": "2022-10-18T10:49:02.930189",
     "exception": false,
     "start_time": "2022-10-18T10:49:02.096617",
     "status": "completed"
    },
    "tags": []
   },
   "outputs": [
    {
     "data": {
      "image/png": "[encoded data removed]",
      "text/plain": [
       "<Figure size 360x360 with 1 Axes>"
      ]
     },
     "metadata": {
      "needs_background": "light"
     },
     "output_type": "display_data"
    },
    {
     "name": "stdout",
     "output_type": "stream",
     "text": [
      "gender: \n",
      " male      517\n",
      "female    483\n",
      "Name: gender, dtype: int64\n"
     ]
    },
    {
     "data": {
      "image/png": "[encoded data removed]",
      "text/plain": [
       "<Figure size 360x360 with 1 Axes>"
      ]
     },
     "metadata": {
      "needs_background": "light"
     },
     "output_type": "display_data"
    },
    {
     "name": "stdout",
     "output_type": "stream",
     "text": [
      "race_ethnicity: \n",
      " group C    323\n",
      "group D    262\n",
      "group B    205\n",
      "group E    131\n",
      "group A     79\n",
      "Name: race_ethnicity, dtype: int64\n"
     ]
    },
    {
     "data": {
      "image/png": "[encoded data removed]",
      "text/plain": [
       "<Figure size 360x360 with 1 Axes>"
      ]
     },
     "metadata": {
      "needs_background": "light"
     },
     "output_type": "display_data"
    },
    {
     "name": "stdout",
     "output_type": "stream",
     "text": [
      "Education: \n",
      " some college          222\n",
      "associate's degree    203\n",
      "high school           202\n",
      "some high school      191\n",
      "bachelor's degree     112\n",
      "master's degree        70\n",
      "Name: Education, dtype: int64\n"
     ]
    },
    {
     "data": {
      "image/png": "[encoded data removed]",
      "text/plain": [
       "<Figure size 360x360 with 1 Axes>"
      ]
     },
     "metadata": {
      "needs_background": "light"
     },
     "output_type": "display_data"
    },
    {
     "name": "stdout",
     "output_type": "stream",
     "text": [
      "lunch: \n",
      " standard        652\n",
      "free/reduced    348\n",
      "Name: lunch, dtype: int64\n"
     ]
    },
    {
     "data": {
      "image/png": "[encoded data removed]",
      "text/plain": [
       "<Figure size 360x360 with 1 Axes>"
      ]
     },
     "metadata": {
      "needs_background": "light"
     },
     "output_type": "display_data"
    },
    {
     "name": "stdout",
     "output_type": "stream",
     "text": [
      "test_preparation_course: \n",
      " none         665\n",
      "completed    335\n",
      "Name: test_preparation_course, dtype: int64\n"
     ]
    }
   ],
   "source": [
    "category1 = [\"gender\",\"race_ethnicity\",\"Education\",\"lunch\",\"test_preparation_course\"]\n",
    "\n",
    "for c in category1:\n",
    "    \n",
    "    bar_plot(c)"
   ]
  },
  {
   "cell_type": "markdown",
   "id": "ab9de711",
   "metadata": {
    "papermill": {
     "duration": 0.016336,
     "end_time": "2022-10-18T10:49:02.964745",
     "exception": false,
     "start_time": "2022-10-18T10:49:02.948409",
     "status": "completed"
    },
    "tags": []
   },
   "source": [
    "\n",
    "> <div class=\"alert alert-block alert-warning\">\n",
    "<b></b> <strong>These graphs have been drawn to give us a little bit of information.\n",
    "</strong></div>"
   ]
  },
  {
   "cell_type": "code",
   "execution_count": 17,
   "id": "7adac4f6",
   "metadata": {
    "execution": {
     "iopub.execute_input": "2022-10-18T10:49:03.000951Z",
     "iopub.status.busy": "2022-10-18T10:49:03.000121Z",
     "iopub.status.idle": "2022-10-18T10:49:03.009735Z",
     "shell.execute_reply": "2022-10-18T10:49:03.008681Z"
    },
    "papermill": {
     "duration": 0.030863,
     "end_time": "2022-10-18T10:49:03.012216",
     "exception": false,
     "start_time": "2022-10-18T10:49:02.981353",
     "status": "completed"
    },
    "tags": []
   },
   "outputs": [
    {
     "data": {
      "text/plain": [
       "group C    323\n",
       "group D    262\n",
       "group B    205\n",
       "group E    131\n",
       "group A     79\n",
       "Name: race_ethnicity, dtype: int64"
      ]
     },
     "execution_count": 17,
     "metadata": {},
     "output_type": "execute_result"
    }
   ],
   "source": [
    "df.race_ethnicity.value_counts()"
   ]
  },
  {
   "cell_type": "code",
   "execution_count": 18,
   "id": "a9e0c188",
   "metadata": {
    "execution": {
     "iopub.execute_input": "2022-10-18T10:49:03.047816Z",
     "iopub.status.busy": "2022-10-18T10:49:03.047000Z",
     "iopub.status.idle": "2022-10-18T10:49:03.178132Z",
     "shell.execute_reply": "2022-10-18T10:49:03.176963Z"
    },
    "papermill": {
     "duration": 0.15166,
     "end_time": "2022-10-18T10:49:03.180549",
     "exception": false,
     "start_time": "2022-10-18T10:49:03.028889",
     "status": "completed"
    },
    "tags": []
   },
   "outputs": [
    {
     "data": {
      "image/png": "[encoded data removed]",
      "text/plain": [
       "<Figure size 432x288 with 1 Axes>"
      ]
     },
     "metadata": {
      "needs_background": "light"
     },
     "output_type": "display_data"
    }
   ],
   "source": [
    "sns.countplot(data=df,x=\"race_ethnicity\")\n",
    "plt.show()"
   ]
  },
  {
   "cell_type": "markdown",
   "id": "79409c79",
   "metadata": {
    "papermill": {
     "duration": 0.017646,
     "end_time": "2022-10-18T10:49:03.215669",
     "exception": false,
     "start_time": "2022-10-18T10:49:03.198023",
     "status": "completed"
    },
    "tags": []
   },
   "source": [
    "> <div class=\"alert alert-block alert-warning\">\n",
    "<b></b> <strong>This graph indicates that there are more people in group C.\n",
    "</strong></div>"
   ]
  },
  {
   "cell_type": "code",
   "execution_count": 20,
   "id": "a1f560fa",
   "metadata": {
    "execution": {
     "iopub.execute_input": "2022-10-18T10:49:03.252329Z",
     "iopub.status.busy": "2022-10-18T10:49:03.251499Z",
     "iopub.status.idle": "2022-10-18T10:49:03.262282Z",
     "shell.execute_reply": "2022-10-18T10:49:03.261134Z"
    },
    "papermill": {
     "duration": 0.031545,
     "end_time": "2022-10-18T10:49:03.264671",
     "exception": false,
     "start_time": "2022-10-18T10:49:03.233126",
     "status": "completed"
    },
    "tags": []
   },
   "outputs": [
    {
     "data": {
      "text/plain": [
       "group C    0.318841\n",
       "group D    0.260870\n",
       "group B    0.236025\n",
       "group E    0.107660\n",
       "group A    0.076605\n",
       "Name: race_ethnicity, dtype: float64"
      ]
     },
     "execution_count": 20,
     "metadata": {},
     "output_type": "execute_result"
    }
   ],
   "source": [
    "df[df.gender==\"female\"].race_ethnicity.value_counts(normalize=True)"
   ]
  },
  {
   "cell_type": "code",
   "execution_count": 21,
   "id": "0bb3fd1b",
   "metadata": {
    "execution": {
     "iopub.execute_input": "2022-10-18T10:49:03.301194Z",
     "iopub.status.busy": "2022-10-18T10:49:03.300379Z",
     "iopub.status.idle": "2022-10-18T10:49:03.443370Z",
     "shell.execute_reply": "2022-10-18T10:49:03.442156Z"
    },
    "papermill": {
     "duration": 0.164186,
     "end_time": "2022-10-18T10:49:03.445959",
     "exception": false,
     "start_time": "2022-10-18T10:49:03.281773",
     "status": "completed"
    },
    "tags": []
   },
   "outputs": [
    {
     "data": {
      "image/png": "[encoded data removed]",
      "text/plain": [
       "<Figure size 432x288 with 1 Axes>"
      ]
     },
     "metadata": {},
     "output_type": "display_data"
    }
   ],
   "source": [
    "# Pie chart, where the slices will be ordered and plotted counter-clockwise:\n",
    "labels = df[\"race_ethnicity\"].value_counts().index\n",
    "sizes = df[\"race_ethnicity\"].value_counts()\n",
    "\n",
    "fig1, ax1 = plt.subplots()\n",
    "ax1.pie(sizes, labels=labels, autopct='%1.1f%%',\n",
    "        shadow=True, startangle=90)\n",
    "ax1.axis('equal')  # Equal aspect ratio ensures that pie is drawn as a circle.\n",
    "\n",
    "plt.show()"
   ]
  },
  {
   "cell_type": "markdown",
   "id": "453ec112",
   "metadata": {
    "papermill": {
     "duration": 0.017195,
     "end_time": "2022-10-18T10:49:03.481257",
     "exception": false,
     "start_time": "2022-10-18T10:49:03.464062",
     "status": "completed"
    },
    "tags": []
   },
   "source": [
    "> <div class=\"alert alert-block alert-warning\">\n",
    "<b></b> <strong>This pie chart shows that there are more people in group C than others.\n",
    "</strong></div>"
   ]
  },
  {
   "cell_type": "code",
   "execution_count": 22,
   "id": "fab01af2",
   "metadata": {
    "execution": {
     "iopub.execute_input": "2022-10-18T10:49:03.518639Z",
     "iopub.status.busy": "2022-10-18T10:49:03.517825Z",
     "iopub.status.idle": "2022-10-18T10:49:03.695020Z",
     "shell.execute_reply": "2022-10-18T10:49:03.693769Z"
    },
    "papermill": {
     "duration": 0.198654,
     "end_time": "2022-10-18T10:49:03.697508",
     "exception": false,
     "start_time": "2022-10-18T10:49:03.498854",
     "status": "completed"
    },
    "tags": []
   },
   "outputs": [
    {
     "data": {
      "image/png": "[encoded data removed]",
      "text/plain": [
       "<Figure size 432x288 with 1 Axes>"
      ]
     },
     "metadata": {
      "needs_background": "light"
     },
     "output_type": "display_data"
    }
   ],
   "source": [
    "sns.countplot(x=df[\"race_ethnicity\"], hue=df[\"gender\"], palette=\"bone\")\n",
    "plt.xlabel(\"Race/Ethnicity\")\n",
    "plt.ylabel(\"Frequency\")\n",
    "plt.show()"
   ]
  },
  {
   "cell_type": "code",
   "execution_count": 23,
   "id": "385be1cc",
   "metadata": {
    "execution": {
     "iopub.execute_input": "2022-10-18T10:49:04.237080Z",
     "iopub.status.busy": "2022-10-18T10:49:04.236657Z",
     "iopub.status.idle": "2022-10-18T10:49:04.246906Z",
     "shell.execute_reply": "2022-10-18T10:49:04.245932Z"
    },
    "papermill": {
     "duration": 0.032237,
     "end_time": "2022-10-18T10:49:04.249262",
     "exception": false,
     "start_time": "2022-10-18T10:49:04.217025",
     "status": "completed"
    },
    "tags": []
   },
   "outputs": [
    {
     "data": {
      "text/plain": [
       "group C    154\n",
       "group D    126\n",
       "group B    114\n",
       "group E     52\n",
       "group A     37\n",
       "Name: race_ethnicity, dtype: int64"
      ]
     },
     "execution_count": 23,
     "metadata": {},
     "output_type": "execute_result"
    }
   ],
   "source": [
    "df[df.gender==\"female\"].race_ethnicity.value_counts()"
   ]
  },
  {
   "cell_type": "code",
   "execution_count": 24,
   "id": "9e02caaf",
   "metadata": {
    "execution": {
     "iopub.execute_input": "2022-10-18T10:49:04.288475Z",
     "iopub.status.busy": "2022-10-18T10:49:04.287325Z",
     "iopub.status.idle": "2022-10-18T10:49:04.409797Z",
     "shell.execute_reply": "2022-10-18T10:49:04.408843Z"
    },
    "papermill": {
     "duration": 0.145238,
     "end_time": "2022-10-18T10:49:04.412905",
     "exception": false,
     "start_time": "2022-10-18T10:49:04.267667",
     "status": "completed"
    },
    "tags": []
   },
   "outputs": [
    {
     "data": {
      "image/png": "[encoded data removed]",
      "text/plain": [
       "<Figure size 432x288 with 1 Axes>"
      ]
     },
     "metadata": {
      "needs_background": "light"
     },
     "output_type": "display_data"
    }
   ],
   "source": [
    "sns.countplot(data=df,x=df[df.gender==\"female\"].race_ethnicity.value_counts())\n",
    "plt.show()"
   ]
  },
  {
   "cell_type": "code",
   "execution_count": 26,
   "id": "77fdf54e",
   "metadata": {
    "execution": {
     "iopub.execute_input": "2022-10-18T10:49:04.454773Z",
     "iopub.status.busy": "2022-10-18T10:49:04.454007Z",
     "iopub.status.idle": "2022-10-18T10:49:04.464218Z",
     "shell.execute_reply": "2022-10-18T10:49:04.463366Z"
    },
    "papermill": {
     "duration": 0.032698,
     "end_time": "2022-10-18T10:49:04.466558",
     "exception": false,
     "start_time": "2022-10-18T10:49:04.433860",
     "status": "completed"
    },
    "tags": []
   },
   "outputs": [
    {
     "data": {
      "text/plain": [
       "some college          222\n",
       "associate's degree    203\n",
       "high school           202\n",
       "some high school      191\n",
       "bachelor's degree     112\n",
       "master's degree        70\n",
       "Name: Education, dtype: int64"
      ]
     },
     "execution_count": 26,
     "metadata": {},
     "output_type": "execute_result"
    }
   ],
   "source": [
    "df.Education.value_counts()\n"
   ]
  },
  {
   "cell_type": "code",
   "execution_count": 27,
   "id": "715d5693",
   "metadata": {
    "execution": {
     "iopub.execute_input": "2022-10-18T10:49:04.506445Z",
     "iopub.status.busy": "2022-10-18T10:49:04.505644Z",
     "iopub.status.idle": "2022-10-18T10:49:04.643470Z",
     "shell.execute_reply": "2022-10-18T10:49:04.642604Z"
    },
    "papermill": {
     "duration": 0.16075,
     "end_time": "2022-10-18T10:49:04.646027",
     "exception": false,
     "start_time": "2022-10-18T10:49:04.485277",
     "status": "completed"
    },
    "tags": []
   },
   "outputs": [
    {
     "data": {
      "image/png": "[encoded data removed]",
      "text/plain": [
       "<Figure size 432x288 with 1 Axes>"
      ]
     },
     "metadata": {
      "needs_background": "light"
     },
     "output_type": "display_data"
    }
   ],
   "source": [
    "plt.xticks(rotation=45)\n",
    "sns.countplot(data=df,x=\"Education\",palette=\"Paired\")\n",
    "plt.show()"
   ]
  },
  {
   "cell_type": "code",
   "execution_count": 28,
   "id": "25541445",
   "metadata": {
    "execution": {
     "iopub.execute_input": "2022-10-18T10:49:04.686924Z",
     "iopub.status.busy": "2022-10-18T10:49:04.686117Z",
     "iopub.status.idle": "2022-10-18T10:49:04.826279Z",
     "shell.execute_reply": "2022-10-18T10:49:04.825334Z"
    },
    "papermill": {
     "duration": 0.163262,
     "end_time": "2022-10-18T10:49:04.828871",
     "exception": false,
     "start_time": "2022-10-18T10:49:04.665609",
     "status": "completed"
    },
    "tags": []
   },
   "outputs": [
    {
     "data": {
      "image/png": "[encoded data removed]",
      "text/plain": [
       "<Figure size 432x288 with 1 Axes>"
      ]
     },
     "metadata": {},
     "output_type": "display_data"
    }
   ],
   "source": [
    "labels = df[\"Education\"].value_counts().index\n",
    "sizes = df[\"Education\"].value_counts()\n",
    "\n",
    "fig1, ax1 = plt.subplots()\n",
    "ax1.pie(sizes, labels=labels, autopct='%1.1f%%',\n",
    "        shadow=True, startangle=90)\n",
    "ax1.axis('equal')  # Equal aspect ratio ensures that pie is drawn as a circle.\n",
    "\n",
    "plt.show()"
   ]
  },
  {
   "cell_type": "code",
   "execution_count": 29,
   "id": "d21258d3",
   "metadata": {
    "execution": {
     "iopub.execute_input": "2022-10-18T10:49:04.871855Z",
     "iopub.status.busy": "2022-10-18T10:49:04.871007Z",
     "iopub.status.idle": "2022-10-18T10:49:04.880075Z",
     "shell.execute_reply": "2022-10-18T10:49:04.879044Z"
    },
    "papermill": {
     "duration": 0.032826,
     "end_time": "2022-10-18T10:49:04.882402",
     "exception": false,
     "start_time": "2022-10-18T10:49:04.849576",
     "status": "completed"
    },
    "tags": []
   },
   "outputs": [
    {
     "data": {
      "text/plain": [
       "male      517\n",
       "female    483\n",
       "Name: gender, dtype: int64"
      ]
     },
     "execution_count": 29,
     "metadata": {},
     "output_type": "execute_result"
    }
   ],
   "source": [
    "df.gender.value_counts()\n"
   ]
  },
  {
   "cell_type": "code",
   "execution_count": 30,
   "id": "ed447a28",
   "metadata": {
    "execution": {
     "iopub.execute_input": "2022-10-18T10:49:04.924463Z",
     "iopub.status.busy": "2022-10-18T10:49:04.923573Z",
     "iopub.status.idle": "2022-10-18T10:49:05.026606Z",
     "shell.execute_reply": "2022-10-18T10:49:05.025698Z"
    },
    "papermill": {
     "duration": 0.126707,
     "end_time": "2022-10-18T10:49:05.029132",
     "exception": false,
     "start_time": "2022-10-18T10:49:04.902425",
     "status": "completed"
    },
    "tags": []
   },
   "outputs": [
    {
     "data": {
      "image/png": "[encoded data removed]",
      "text/plain": [
       "<Figure size 432x288 with 1 Axes>"
      ]
     },
     "metadata": {
      "needs_background": "light"
     },
     "output_type": "display_data"
    }
   ],
   "source": [
    "sns.countplot(data=df,x=\"gender\",palette=\"crest_r\")\n",
    "plt.show()"
   ]
  },
  {
   "cell_type": "code",
   "execution_count": 31,
   "id": "3b49c88a",
   "metadata": {
    "execution": {
     "iopub.execute_input": "2022-10-18T10:49:05.071567Z",
     "iopub.status.busy": "2022-10-18T10:49:05.071165Z",
     "iopub.status.idle": "2022-10-18T10:49:05.080282Z",
     "shell.execute_reply": "2022-10-18T10:49:05.079375Z"
    },
    "papermill": {
     "duration": 0.032694,
     "end_time": "2022-10-18T10:49:05.082597",
     "exception": false,
     "start_time": "2022-10-18T10:49:05.049903",
     "status": "completed"
    },
    "tags": []
   },
   "outputs": [
    {
     "data": {
      "text/plain": [
       "standard        652\n",
       "free/reduced    348\n",
       "Name: lunch, dtype: int64"
      ]
     },
     "execution_count": 31,
     "metadata": {},
     "output_type": "execute_result"
    }
   ],
   "source": [
    "df.lunch.value_counts()\n"
   ]
  },
  {
   "cell_type": "code",
   "execution_count": 32,
   "id": "482cc4c3",
   "metadata": {
    "execution": {
     "iopub.execute_input": "2022-10-18T10:49:05.123904Z",
     "iopub.status.busy": "2022-10-18T10:49:05.123469Z",
     "iopub.status.idle": "2022-10-18T10:49:05.233494Z",
     "shell.execute_reply": "2022-10-18T10:49:05.232680Z"
    },
    "papermill": {
     "duration": 0.133854,
     "end_time": "2022-10-18T10:49:05.235925",
     "exception": false,
     "start_time": "2022-10-18T10:49:05.102071",
     "status": "completed"
    },
    "tags": []
   },
   "outputs": [
    {
     "data": {
      "image/png": "[encoded data removed]",
      "text/plain": [
       "<Figure size 432x288 with 1 Axes>"
      ]
     },
     "metadata": {
      "needs_background": "light"
     },
     "output_type": "display_data"
    }
   ],
   "source": [
    "sns.countplot(data=df, x=\"lunch\",palette=\"RdYlGn_r\")\n",
    "plt.show()"
   ]
  },
  {
   "cell_type": "code",
   "execution_count": 33,
   "id": "65b0ea6d",
   "metadata": {
    "execution": {
     "iopub.execute_input": "2022-10-18T10:49:05.285003Z",
     "iopub.status.busy": "2022-10-18T10:49:05.284105Z",
     "iopub.status.idle": "2022-10-18T10:49:05.293437Z",
     "shell.execute_reply": "2022-10-18T10:49:05.292380Z"
    },
    "papermill": {
     "duration": 0.038556,
     "end_time": "2022-10-18T10:49:05.295819",
     "exception": false,
     "start_time": "2022-10-18T10:49:05.257263",
     "status": "completed"
    },
    "tags": []
   },
   "outputs": [
    {
     "data": {
      "text/plain": [
       "none         665\n",
       "completed    335\n",
       "Name: test_preparation_course, dtype: int64"
      ]
     },
     "execution_count": 33,
     "metadata": {},
     "output_type": "execute_result"
    }
   ],
   "source": [
    "df.test_preparation_course.value_counts()"
   ]
  },
  {
   "cell_type": "code",
   "execution_count": 34,
   "id": "02a85163",
   "metadata": {
    "execution": {
     "iopub.execute_input": "2022-10-18T10:49:05.338787Z",
     "iopub.status.busy": "2022-10-18T10:49:05.337513Z",
     "iopub.status.idle": "2022-10-18T10:49:05.512578Z",
     "shell.execute_reply": "2022-10-18T10:49:05.511378Z"
    },
    "papermill": {
     "duration": 0.199032,
     "end_time": "2022-10-18T10:49:05.515130",
     "exception": false,
     "start_time": "2022-10-18T10:49:05.316098",
     "status": "completed"
    },
    "tags": []
   },
   "outputs": [
    {
     "data": {
      "image/png": "[encoded data removed]",
      "text/plain": [
       "<Figure size 432x288 with 1 Axes>"
      ]
     },
     "metadata": {
      "needs_background": "light"
     },
     "output_type": "display_data"
    }
   ],
   "source": [
    "sns.countplot(data=df, x=\"test_preparation_course\",palette=\"autumn\")\n",
    "plt.show()"
   ]
  },
  {
   "cell_type": "code",
   "execution_count": 35,
   "id": "b24cfcf8",
   "metadata": {
    "execution": {
     "iopub.execute_input": "2022-10-18T10:49:05.558751Z",
     "iopub.status.busy": "2022-10-18T10:49:05.557650Z",
     "iopub.status.idle": "2022-10-18T10:49:05.929640Z",
     "shell.execute_reply": "2022-10-18T10:49:05.928273Z"
    },
    "papermill": {
     "duration": 0.396821,
     "end_time": "2022-10-18T10:49:05.932319",
     "exception": false,
     "start_time": "2022-10-18T10:49:05.535498",
     "status": "completed"
    },
    "tags": []
   },
   "outputs": [
    {
     "data": {
      "image/png": "[encoded data removed]",
      "text/plain": [
       "<Figure size 432x288 with 1 Axes>"
      ]
     },
     "metadata": {
      "needs_background": "light"
     },
     "output_type": "display_data"
    }
   ],
   "source": [
    "sns.barplot(data=df, x=\"math_score\", y=\"Education\")\n",
    "plt.show()\n"
   ]
  },
  {
   "cell_type": "code",
   "execution_count": 36,
   "id": "593f3c39",
   "metadata": {
    "execution": {
     "iopub.execute_input": "2022-10-18T10:49:05.975495Z",
     "iopub.status.busy": "2022-10-18T10:49:05.975059Z",
     "iopub.status.idle": "2022-10-18T10:49:05.990412Z",
     "shell.execute_reply": "2022-10-18T10:49:05.989300Z"
    },
    "papermill": {
     "duration": 0.039788,
     "end_time": "2022-10-18T10:49:05.992661",
     "exception": false,
     "start_time": "2022-10-18T10:49:05.952873",
     "status": "completed"
    },
    "tags": []
   },
   "outputs": [
    {
     "data": {
      "text/html": [
       "<div>\n",
       "<style scoped>\n",
       "    .dataframe tbody tr th:only-of-type {\n",
       "        vertical-align: middle;\n",
       "    }\n",
       "\n",
       "    .dataframe tbody tr th {\n",
       "        vertical-align: top;\n",
       "    }\n",
       "\n",
       "    .dataframe thead th {\n",
       "        text-align: right;\n",
       "    }\n",
       "</style>\n",
       "<table border=\"1\" class=\"dataframe\">\n",
       "  <thead>\n",
       "    <tr style=\"text-align: right;\">\n",
       "      <th></th>\n",
       "      <th>gender</th>\n",
       "      <th>race_ethnicity</th>\n",
       "      <th>Education</th>\n",
       "      <th>lunch</th>\n",
       "      <th>test_preparation_course</th>\n",
       "      <th>math_score</th>\n",
       "      <th>reading_score</th>\n",
       "      <th>writing_score</th>\n",
       "    </tr>\n",
       "  </thead>\n",
       "  <tbody>\n",
       "    <tr>\n",
       "      <th>0</th>\n",
       "      <td>male</td>\n",
       "      <td>group A</td>\n",
       "      <td>high school</td>\n",
       "      <td>standard</td>\n",
       "      <td>completed</td>\n",
       "      <td>67</td>\n",
       "      <td>67</td>\n",
       "      <td>63</td>\n",
       "    </tr>\n",
       "    <tr>\n",
       "      <th>1</th>\n",
       "      <td>female</td>\n",
       "      <td>group D</td>\n",
       "      <td>some high school</td>\n",
       "      <td>free/reduced</td>\n",
       "      <td>none</td>\n",
       "      <td>40</td>\n",
       "      <td>59</td>\n",
       "      <td>55</td>\n",
       "    </tr>\n",
       "    <tr>\n",
       "      <th>2</th>\n",
       "      <td>male</td>\n",
       "      <td>group E</td>\n",
       "      <td>some college</td>\n",
       "      <td>free/reduced</td>\n",
       "      <td>none</td>\n",
       "      <td>59</td>\n",
       "      <td>60</td>\n",
       "      <td>50</td>\n",
       "    </tr>\n",
       "    <tr>\n",
       "      <th>3</th>\n",
       "      <td>male</td>\n",
       "      <td>group B</td>\n",
       "      <td>high school</td>\n",
       "      <td>standard</td>\n",
       "      <td>none</td>\n",
       "      <td>77</td>\n",
       "      <td>78</td>\n",
       "      <td>68</td>\n",
       "    </tr>\n",
       "    <tr>\n",
       "      <th>4</th>\n",
       "      <td>male</td>\n",
       "      <td>group E</td>\n",
       "      <td>associate's degree</td>\n",
       "      <td>standard</td>\n",
       "      <td>completed</td>\n",
       "      <td>78</td>\n",
       "      <td>73</td>\n",
       "      <td>68</td>\n",
       "    </tr>\n",
       "  </tbody>\n",
       "</table>\n",
       "</div>"
      ],
      "text/plain": [
       "   gender race_ethnicity           Education         lunch  \\\n",
       "0    male        group A         high school      standard   \n",
       "1  female        group D    some high school  free/reduced   \n",
       "2    male        group E        some college  free/reduced   \n",
       "3    male        group B         high school      standard   \n",
       "4    male        group E  associate's degree      standard   \n",
       "\n",
       "  test_preparation_course  math_score  reading_score  writing_score  \n",
       "0               completed          67             67             63  \n",
       "1                    none          40             59             55  \n",
       "2                    none          59             60             50  \n",
       "3                    none          77             78             68  \n",
       "4               completed          78             73             68  "
      ]
     },
     "execution_count": 36,
     "metadata": {},
     "output_type": "execute_result"
    }
   ],
   "source": [
    "df.head()"
   ]
  },
  {
   "cell_type": "markdown",
   "id": "3ca5268c",
   "metadata": {
    "papermill": {
     "duration": 0.020565,
     "end_time": "2022-10-18T10:49:06.035427",
     "exception": false,
     "start_time": "2022-10-18T10:49:06.014862",
     "status": "completed"
    },
    "tags": []
   },
   "source": [
    "### test_preparation_course-math_score\n",
    "### test_preparation_course-reading_score\n",
    "### test_preparation_course-writing_score\n"
   ]
  },
  {
   "cell_type": "code",
   "execution_count": 37,
   "id": "c27b99f5",
   "metadata": {
    "execution": {
     "iopub.execute_input": "2022-10-18T10:49:06.079923Z",
     "iopub.status.busy": "2022-10-18T10:49:06.079448Z",
     "iopub.status.idle": "2022-10-18T10:49:06.407789Z",
     "shell.execute_reply": "2022-10-18T10:49:06.406492Z"
    },
    "papermill": {
     "duration": 0.35364,
     "end_time": "2022-10-18T10:49:06.410344",
     "exception": false,
     "start_time": "2022-10-18T10:49:06.056704",
     "status": "completed"
    },
    "tags": []
   },
   "outputs": [
    {
     "data": {
      "image/png": "[encoded data removed]",
      "text/plain": [
       "<Figure size 360x360 with 1 Axes>"
      ]
     },
     "metadata": {
      "needs_background": "light"
     },
     "output_type": "display_data"
    }
   ],
   "source": [
    "sns.catplot(data=df,x=\"test_preparation_course\",y=\"math_score\",kind=\"bar\",palette=\"crest\")\n",
    "plt.show()"
   ]
  },
  {
   "cell_type": "code",
   "execution_count": 38,
   "id": "6799c663",
   "metadata": {
    "execution": {
     "iopub.execute_input": "2022-10-18T10:49:06.454375Z",
     "iopub.status.busy": "2022-10-18T10:49:06.453928Z",
     "iopub.status.idle": "2022-10-18T10:49:06.947826Z",
     "shell.execute_reply": "2022-10-18T10:49:06.946450Z"
    },
    "papermill": {
     "duration": 0.518929,
     "end_time": "2022-10-18T10:49:06.950374",
     "exception": false,
     "start_time": "2022-10-18T10:49:06.431445",
     "status": "completed"
    },
    "tags": []
   },
   "outputs": [
    {
     "data": {
      "image/png": "[encoded data removed]",
      "text/plain": [
       "<Figure size 360x360 with 1 Axes>"
      ]
     },
     "metadata": {
      "needs_background": "light"
     },
     "output_type": "display_data"
    }
   ],
   "source": [
    "sns.catplot(data=df,x=\"test_preparation_course\",y=\"reading_score\",kind=\"bar\",palette=\"nipy_spectral_r\")\n",
    "plt.show()"
   ]
  },
  {
   "cell_type": "code",
   "execution_count": 39,
   "id": "e48f6019",
   "metadata": {
    "execution": {
     "iopub.execute_input": "2022-10-18T10:49:06.994901Z",
     "iopub.status.busy": "2022-10-18T10:49:06.994425Z",
     "iopub.status.idle": "2022-10-18T10:49:07.324061Z",
     "shell.execute_reply": "2022-10-18T10:49:07.322828Z"
    },
    "papermill": {
     "duration": 0.35515,
     "end_time": "2022-10-18T10:49:07.326565",
     "exception": false,
     "start_time": "2022-10-18T10:49:06.971415",
     "status": "completed"
    },
    "tags": []
   },
   "outputs": [
    {
     "data": {
      "image/png": "[encoded data removed]",
      "text/plain": [
       "<Figure size 360x360 with 1 Axes>"
      ]
     },
     "metadata": {
      "needs_background": "light"
     },
     "output_type": "display_data"
    }
   ],
   "source": [
    "sns.catplot(data=df,x=\"test_preparation_course\",y=\"writing_score\",kind=\"bar\",palette=\"prism_r\")\n",
    "plt.show()"
   ]
  },
  {
   "cell_type": "markdown",
   "id": "6de53dde",
   "metadata": {
    "papermill": {
     "duration": 0.021842,
     "end_time": "2022-10-18T10:49:07.369935",
     "exception": false,
     "start_time": "2022-10-18T10:49:07.348093",
     "status": "completed"
    },
    "tags": []
   },
   "source": [
    "> <div class=\"alert alert-block alert-warning\">\n",
    "<b></b> <strong>From these tables we can conclude that the passing grade is about 70.\n",
    "</strong></div>"
   ]
  },
  {
   "cell_type": "markdown",
   "id": "83d738f2",
   "metadata": {
    "papermill": {
     "duration": 0.022797,
     "end_time": "2022-10-18T10:49:07.413966",
     "exception": false,
     "start_time": "2022-10-18T10:49:07.391169",
     "status": "completed"
    },
    "tags": []
   },
   "source": [
    "### Education-math_score \n",
    "             &\n",
    "### Education-reading_score\n",
    "             &\n",
    "### Education-writing_score    "
   ]
  },
  {
   "cell_type": "code",
   "execution_count": 40,
   "id": "d6a1a092",
   "metadata": {
    "execution": {
     "iopub.execute_input": "2022-10-18T10:49:07.459374Z",
     "iopub.status.busy": "2022-10-18T10:49:07.458634Z",
     "iopub.status.idle": "2022-10-18T10:49:07.475231Z",
     "shell.execute_reply": "2022-10-18T10:49:07.473975Z"
    },
    "papermill": {
     "duration": 0.042053,
     "end_time": "2022-10-18T10:49:07.477622",
     "exception": false,
     "start_time": "2022-10-18T10:49:07.435569",
     "status": "completed"
    },
    "tags": []
   },
   "outputs": [
    {
     "data": {
      "text/html": [
       "<div>\n",
       "<style scoped>\n",
       "    .dataframe tbody tr th:only-of-type {\n",
       "        vertical-align: middle;\n",
       "    }\n",
       "\n",
       "    .dataframe tbody tr th {\n",
       "        vertical-align: top;\n",
       "    }\n",
       "\n",
       "    .dataframe thead th {\n",
       "        text-align: right;\n",
       "    }\n",
       "</style>\n",
       "<table border=\"1\" class=\"dataframe\">\n",
       "  <thead>\n",
       "    <tr style=\"text-align: right;\">\n",
       "      <th></th>\n",
       "      <th>math_score</th>\n",
       "      <th>reading_score</th>\n",
       "      <th>writing_score</th>\n",
       "    </tr>\n",
       "    <tr>\n",
       "      <th>Education</th>\n",
       "      <th></th>\n",
       "      <th></th>\n",
       "      <th></th>\n",
       "    </tr>\n",
       "  </thead>\n",
       "  <tbody>\n",
       "    <tr>\n",
       "      <th>master's degree</th>\n",
       "      <td>71.585714</td>\n",
       "      <td>75.428571</td>\n",
       "      <td>75.885714</td>\n",
       "    </tr>\n",
       "    <tr>\n",
       "      <th>bachelor's degree</th>\n",
       "      <td>71.491071</td>\n",
       "      <td>74.008929</td>\n",
       "      <td>74.410714</td>\n",
       "    </tr>\n",
       "    <tr>\n",
       "      <th>associate's degree</th>\n",
       "      <td>69.536946</td>\n",
       "      <td>70.985222</td>\n",
       "      <td>70.113300</td>\n",
       "    </tr>\n",
       "    <tr>\n",
       "      <th>some college</th>\n",
       "      <td>65.297297</td>\n",
       "      <td>68.045045</td>\n",
       "      <td>66.734234</td>\n",
       "    </tr>\n",
       "    <tr>\n",
       "      <th>high school</th>\n",
       "      <td>65.207921</td>\n",
       "      <td>67.400990</td>\n",
       "      <td>64.846535</td>\n",
       "    </tr>\n",
       "    <tr>\n",
       "      <th>some high school</th>\n",
       "      <td>60.701571</td>\n",
       "      <td>64.408377</td>\n",
       "      <td>62.539267</td>\n",
       "    </tr>\n",
       "  </tbody>\n",
       "</table>\n",
       "</div>"
      ],
      "text/plain": [
       "                    math_score  reading_score  writing_score\n",
       "Education                                                   \n",
       "master's degree      71.585714      75.428571      75.885714\n",
       "bachelor's degree    71.491071      74.008929      74.410714\n",
       "associate's degree   69.536946      70.985222      70.113300\n",
       "some college         65.297297      68.045045      66.734234\n",
       "high school          65.207921      67.400990      64.846535\n",
       "some high school     60.701571      64.408377      62.539267"
      ]
     },
     "execution_count": 40,
     "metadata": {},
     "output_type": "execute_result"
    }
   ],
   "source": [
    "y=df[[\"Education\",\"math_score\",\"reading_score\",\"writing_score\"]].groupby([\"Education\"]).mean().sort_values(by=\"math_score\",ascending = False)\n",
    "y\n"
   ]
  },
  {
   "cell_type": "code",
   "execution_count": 41,
   "id": "5d5196be",
   "metadata": {
    "execution": {
     "iopub.execute_input": "2022-10-18T10:49:07.523196Z",
     "iopub.status.busy": "2022-10-18T10:49:07.522731Z",
     "iopub.status.idle": "2022-10-18T10:49:07.980083Z",
     "shell.execute_reply": "2022-10-18T10:49:07.978677Z"
    },
    "papermill": {
     "duration": 0.4833,
     "end_time": "2022-10-18T10:49:07.982712",
     "exception": false,
     "start_time": "2022-10-18T10:49:07.499412",
     "status": "completed"
    },
    "tags": []
   },
   "outputs": [
    {
     "data": {
      "image/png": "[encoded data removed]",
      "text/plain": [
       "<Figure size 360x360 with 1 Axes>"
      ]
     },
     "metadata": {
      "needs_background": "light"
     },
     "output_type": "display_data"
    }
   ],
   "source": [
    "sns.catplot(x=\"Education\",y=\"math_score\",data=df, palette=\"ocean\",kind=\"bar\")\n",
    "plt.xticks(rotation=90)\n",
    "plt.show()"
   ]
  },
  {
   "cell_type": "code",
   "execution_count": 44,
   "id": "3e51305e",
   "metadata": {
    "execution": {
     "iopub.execute_input": "2022-10-18T10:49:08.031385Z",
     "iopub.status.busy": "2022-10-18T10:49:08.030989Z",
     "iopub.status.idle": "2022-10-18T10:49:08.497780Z",
     "shell.execute_reply": "2022-10-18T10:49:08.496764Z"
    },
    "papermill": {
     "duration": 0.493676,
     "end_time": "2022-10-18T10:49:08.500160",
     "exception": false,
     "start_time": "2022-10-18T10:49:08.006484",
     "status": "completed"
    },
    "tags": []
   },
   "outputs": [
    {
     "data": {
      "image/png": "[encoded data removed]",
      "text/plain": [
       "<Figure size 360x360 with 1 Axes>"
      ]
     },
     "metadata": {
      "needs_background": "light"
     },
     "output_type": "display_data"
    }
   ],
   "source": [
    "sns.catplot(data=df,x=\"Education\", y=\"reading_score\", kind=\"bar\",palette=\"BuPu\")\n",
    "plt.xticks(rotation=90)\n",
    "plt.xlabel(\"Education\")\n",
    "plt.ylabel(\"Reading Score\")\n",
    "plt.title(\"Education/Reading Score\")\n",
    "plt.show()"
   ]
  },
  {
   "cell_type": "code",
   "execution_count": 45,
   "id": "f5257a59",
   "metadata": {
    "execution": {
     "iopub.execute_input": "2022-10-18T10:49:08.546567Z",
     "iopub.status.busy": "2022-10-18T10:49:08.545892Z",
     "iopub.status.idle": "2022-10-18T10:49:09.014925Z",
     "shell.execute_reply": "2022-10-18T10:49:09.013676Z"
    },
    "papermill": {
     "duration": 0.495264,
     "end_time": "2022-10-18T10:49:09.017452",
     "exception": false,
     "start_time": "2022-10-18T10:49:08.522188",
     "status": "completed"
    },
    "tags": []
   },
   "outputs": [
    {
     "data": {
      "image/png": "[encoded data removed]",
      "text/plain": [
       "<Figure size 360x360 with 1 Axes>"
      ]
     },
     "metadata": {
      "needs_background": "light"
     },
     "output_type": "display_data"
    }
   ],
   "source": [
    "sns.catplot(data=df,x=\"Education\",y=\"writing_score\",kind=\"bar\",palette=\"tab20\")\n",
    "plt.xticks(rotation=90)\n",
    "plt.show()"
   ]
  },
  {
   "cell_type": "code",
   "execution_count": 47,
   "id": "e83c3495",
   "metadata": {
    "execution": {
     "iopub.execute_input": "2022-10-18T10:49:09.065598Z",
     "iopub.status.busy": "2022-10-18T10:49:09.064950Z",
     "iopub.status.idle": "2022-10-18T10:49:09.077545Z",
     "shell.execute_reply": "2022-10-18T10:49:09.076300Z"
    },
    "papermill": {
     "duration": 0.039539,
     "end_time": "2022-10-18T10:49:09.080175",
     "exception": false,
     "start_time": "2022-10-18T10:49:09.040636",
     "status": "completed"
    },
    "tags": []
   },
   "outputs": [
    {
     "data": {
      "text/html": [
       "<div>\n",
       "<style scoped>\n",
       "    .dataframe tbody tr th:only-of-type {\n",
       "        vertical-align: middle;\n",
       "    }\n",
       "\n",
       "    .dataframe tbody tr th {\n",
       "        vertical-align: top;\n",
       "    }\n",
       "\n",
       "    .dataframe thead th {\n",
       "        text-align: right;\n",
       "    }\n",
       "</style>\n",
       "<table border=\"1\" class=\"dataframe\">\n",
       "  <thead>\n",
       "    <tr style=\"text-align: right;\">\n",
       "      <th></th>\n",
       "      <th>race_ethnicity</th>\n",
       "      <th>math_score</th>\n",
       "    </tr>\n",
       "  </thead>\n",
       "  <tbody>\n",
       "    <tr>\n",
       "      <th>0</th>\n",
       "      <td>group A</td>\n",
       "      <td>67</td>\n",
       "    </tr>\n",
       "    <tr>\n",
       "      <th>1</th>\n",
       "      <td>group D</td>\n",
       "      <td>40</td>\n",
       "    </tr>\n",
       "    <tr>\n",
       "      <th>2</th>\n",
       "      <td>group E</td>\n",
       "      <td>59</td>\n",
       "    </tr>\n",
       "    <tr>\n",
       "      <th>3</th>\n",
       "      <td>group B</td>\n",
       "      <td>77</td>\n",
       "    </tr>\n",
       "    <tr>\n",
       "      <th>4</th>\n",
       "      <td>group E</td>\n",
       "      <td>78</td>\n",
       "    </tr>\n",
       "  </tbody>\n",
       "</table>\n",
       "</div>"
      ],
      "text/plain": [
       "  race_ethnicity  math_score\n",
       "0        group A          67\n",
       "1        group D          40\n",
       "2        group E          59\n",
       "3        group B          77\n",
       "4        group E          78"
      ]
     },
     "execution_count": 47,
     "metadata": {},
     "output_type": "execute_result"
    }
   ],
   "source": [
    "data1 = df['race_ethnicity'].head()\n",
    "data2= df['math_score'].head()\n",
    "conc_data_col = pd.concat([data1,data2],axis =1) # axis = 1 : adds dataframes in column\n",
    "conc_data_col"
   ]
  },
  {
   "cell_type": "markdown",
   "id": "0219cd7c",
   "metadata": {
    "papermill": {
     "duration": 0.02219,
     "end_time": "2022-10-18T10:49:09.125249",
     "exception": false,
     "start_time": "2022-10-18T10:49:09.103059",
     "status": "completed"
    },
    "tags": []
   },
   "source": [
    "### race_ethnicity-math_score   \n",
    "            &\n",
    "### race_ethnicity-reading_score \n",
    "            &\n",
    "### race_ethnicity-writing_score"
   ]
  },
  {
   "cell_type": "code",
   "execution_count": 48,
   "id": "967c37b2",
   "metadata": {
    "execution": {
     "iopub.execute_input": "2022-10-18T10:49:09.172159Z",
     "iopub.status.busy": "2022-10-18T10:49:09.171772Z",
     "iopub.status.idle": "2022-10-18T10:49:09.181048Z",
     "shell.execute_reply": "2022-10-18T10:49:09.180143Z"
    },
    "papermill": {
     "duration": 0.035177,
     "end_time": "2022-10-18T10:49:09.183191",
     "exception": false,
     "start_time": "2022-10-18T10:49:09.148014",
     "status": "completed"
    },
    "tags": []
   },
   "outputs": [
    {
     "data": {
      "text/plain": [
       "race_ethnicity\n",
       "group A    65.215190\n",
       "group B    63.170732\n",
       "group C    63.130031\n",
       "group D    69.267176\n",
       "group E    74.465649\n",
       "Name: math_score, dtype: float64"
      ]
     },
     "execution_count": 48,
     "metadata": {},
     "output_type": "execute_result"
    }
   ],
   "source": [
    "a=df.groupby([\"race_ethnicity\"])[\"math_score\"].mean()\n",
    "a"
   ]
  },
  {
   "cell_type": "code",
   "execution_count": 49,
   "id": "65dacaca",
   "metadata": {
    "execution": {
     "iopub.execute_input": "2022-10-18T10:49:09.232757Z",
     "iopub.status.busy": "2022-10-18T10:49:09.231978Z",
     "iopub.status.idle": "2022-10-18T10:49:09.670420Z",
     "shell.execute_reply": "2022-10-18T10:49:09.669191Z"
    },
    "papermill": {
     "duration": 0.466654,
     "end_time": "2022-10-18T10:49:09.673094",
     "exception": false,
     "start_time": "2022-10-18T10:49:09.206440",
     "status": "completed"
    },
    "tags": []
   },
   "outputs": [
    {
     "data": {
      "image/png": "[encoded data removed]",
      "text/plain": [
       "<Figure size 360x360 with 1 Axes>"
      ]
     },
     "metadata": {
      "needs_background": "light"
     },
     "output_type": "display_data"
    }
   ],
   "source": [
    "sns.catplot(kind=\"bar\",x=\"race_ethnicity\",y=\"math_score\",data=df,palette=\"pastel\")\n",
    "plt.show()"
   ]
  },
  {
   "cell_type": "code",
   "execution_count": 50,
   "id": "f994946b",
   "metadata": {
    "execution": {
     "iopub.execute_input": "2022-10-18T10:49:09.721556Z",
     "iopub.status.busy": "2022-10-18T10:49:09.721119Z",
     "iopub.status.idle": "2022-10-18T10:49:09.732091Z",
     "shell.execute_reply": "2022-10-18T10:49:09.731020Z"
    },
    "papermill": {
     "duration": 0.038281,
     "end_time": "2022-10-18T10:49:09.734438",
     "exception": false,
     "start_time": "2022-10-18T10:49:09.696157",
     "status": "completed"
    },
    "tags": []
   },
   "outputs": [
    {
     "data": {
      "text/plain": [
       "race_ethnicity\n",
       "group A    68.556962\n",
       "group B    67.102439\n",
       "group C    66.383901\n",
       "group D    72.087786\n",
       "group E    72.526718\n",
       "Name: reading_score, dtype: float64"
      ]
     },
     "execution_count": 50,
     "metadata": {},
     "output_type": "execute_result"
    }
   ],
   "source": [
    "df.groupby([\"race_ethnicity\"])[\"reading_score\"].mean()"
   ]
  },
  {
   "cell_type": "code",
   "execution_count": 51,
   "id": "6565dfc7",
   "metadata": {
    "execution": {
     "iopub.execute_input": "2022-10-18T10:49:09.783167Z",
     "iopub.status.busy": "2022-10-18T10:49:09.782759Z",
     "iopub.status.idle": "2022-10-18T10:49:10.197205Z",
     "shell.execute_reply": "2022-10-18T10:49:10.196114Z"
    },
    "papermill": {
     "duration": 0.442332,
     "end_time": "2022-10-18T10:49:10.199767",
     "exception": false,
     "start_time": "2022-10-18T10:49:09.757435",
     "status": "completed"
    },
    "tags": []
   },
   "outputs": [
    {
     "data": {
      "image/png": "[encoded data removed]",
      "text/plain": [
       "<Figure size 360x360 with 1 Axes>"
      ]
     },
     "metadata": {
      "needs_background": "light"
     },
     "output_type": "display_data"
    }
   ],
   "source": [
    "sns.catplot(kind=\"bar\",x=\"race_ethnicity\",y=\"reading_score\",data=df,palette=\"terrain\")\n",
    "plt.show()"
   ]
  },
  {
   "cell_type": "code",
   "execution_count": 52,
   "id": "4116615e",
   "metadata": {
    "execution": {
     "iopub.execute_input": "2022-10-18T10:49:10.249884Z",
     "iopub.status.busy": "2022-10-18T10:49:10.249355Z",
     "iopub.status.idle": "2022-10-18T10:49:10.259900Z",
     "shell.execute_reply": "2022-10-18T10:49:10.258880Z"
    },
    "papermill": {
     "duration": 0.039604,
     "end_time": "2022-10-18T10:49:10.262715",
     "exception": false,
     "start_time": "2022-10-18T10:49:10.223111",
     "status": "completed"
    },
    "tags": []
   },
   "outputs": [
    {
     "data": {
      "text/plain": [
       "race_ethnicity\n",
       "group A    66.974684\n",
       "group B    65.736585\n",
       "group C    64.523220\n",
       "group D    72.259542\n",
       "group E    70.213740\n",
       "Name: writing_score, dtype: float64"
      ]
     },
     "execution_count": 52,
     "metadata": {},
     "output_type": "execute_result"
    }
   ],
   "source": [
    "df.groupby([\"race_ethnicity\"])[\"writing_score\"].mean()"
   ]
  },
  {
   "cell_type": "code",
   "execution_count": 53,
   "id": "c7d1bb15",
   "metadata": {
    "execution": {
     "iopub.execute_input": "2022-10-18T10:49:10.314046Z",
     "iopub.status.busy": "2022-10-18T10:49:10.313653Z",
     "iopub.status.idle": "2022-10-18T10:49:10.725249Z",
     "shell.execute_reply": "2022-10-18T10:49:10.724204Z"
    },
    "papermill": {
     "duration": 0.440358,
     "end_time": "2022-10-18T10:49:10.727767",
     "exception": false,
     "start_time": "2022-10-18T10:49:10.287409",
     "status": "completed"
    },
    "tags": []
   },
   "outputs": [
    {
     "data": {
      "image/png": "[encoded data removed]",
      "text/plain": [
       "<Figure size 360x360 with 1 Axes>"
      ]
     },
     "metadata": {
      "needs_background": "light"
     },
     "output_type": "display_data"
    }
   ],
   "source": [
    "sns.catplot(kind=\"bar\",x=\"race_ethnicity\",y=\"writing_score\",data=df,palette=\"PuRd\")\n",
    "plt.show()"
   ]
  },
  {
   "cell_type": "markdown",
   "id": "d8551244",
   "metadata": {},
   "source": [
    "## Data Preprocessing"
   ]
  },
  {
   "cell_type": "code",
   "execution_count": 54,
   "id": "bb1403db",
   "metadata": {},
   "outputs": [],
   "source": [
    "#### Label Encoding Categorical Variables"
   ]
  },
  {
   "cell_type": "code",
   "execution_count": 55,
   "id": "ad346a78",
   "metadata": {},
   "outputs": [
    {
     "name": "stdout",
     "output_type": "stream",
     "text": [
      "['male' 'female']\n"
     ]
    }
   ],
   "source": [
    "print(df['gender'].unique())"
   ]
  },
  {
   "cell_type": "code",
   "execution_count": 56,
   "id": "6a1e10ea",
   "metadata": {},
   "outputs": [
    {
     "name": "stdout",
     "output_type": "stream",
     "text": [
      "['group A' 'group D' 'group E' 'group B' 'group C']\n"
     ]
    }
   ],
   "source": [
    "print(df['race_ethnicity'].unique())"
   ]
  },
  {
   "cell_type": "code",
   "execution_count": 57,
   "id": "4e7679bf",
   "metadata": {},
   "outputs": [
    {
     "name": "stdout",
     "output_type": "stream",
     "text": [
      "['high school' 'some high school' 'some college' \"associate's degree\"\n",
      " \"bachelor's degree\" \"master's degree\"]\n"
     ]
    }
   ],
   "source": [
    "print(df['Education'].unique())"
   ]
  },
  {
   "cell_type": "code",
   "execution_count": 58,
   "id": "d6da8026",
   "metadata": {},
   "outputs": [
    {
     "name": "stdout",
     "output_type": "stream",
     "text": [
      "['standard' 'free/reduced']\n"
     ]
    }
   ],
   "source": [
    "print(df['lunch'].unique())"
   ]
  },
  {
   "cell_type": "code",
   "execution_count": 59,
   "id": "b8b9446b",
   "metadata": {},
   "outputs": [
    {
     "name": "stdout",
     "output_type": "stream",
     "text": [
      "some college          222\n",
      "associate's degree    203\n",
      "high school           202\n",
      "some high school      191\n",
      "bachelor's degree     112\n",
      "master's degree        70\n",
      "Name: Education, dtype: int64\n"
     ]
    }
   ],
   "source": [
    "print(df['Education'].value_counts())"
   ]
  },
  {
   "cell_type": "code",
   "execution_count": 60,
   "id": "5cb61cfe",
   "metadata": {},
   "outputs": [],
   "source": [
    "from sklearn.preprocessing import LabelEncoder\n",
    "le=LabelEncoder()"
   ]
  },
  {
   "cell_type": "code",
   "execution_count": 61,
   "id": "49a2646d",
   "metadata": {},
   "outputs": [],
   "source": [
    "data=df\n",
    "data['gender']=le.fit_transform(data['gender'])\n",
    "data['lunch']=le.fit_transform(data['lunch'])"
   ]
  },
  {
   "cell_type": "code",
   "execution_count": 62,
   "id": "5a26807a",
   "metadata": {},
   "outputs": [],
   "source": [
    "data = pd.get_dummies(data)"
   ]
  },
  {
   "cell_type": "code",
   "execution_count": 63,
   "id": "1596fdd7",
   "metadata": {},
   "outputs": [
    {
     "data": {
      "text/html": [
       "<div>\n",
       "<style scoped>\n",
       "    .dataframe tbody tr th:only-of-type {\n",
       "        vertical-align: middle;\n",
       "    }\n",
       "\n",
       "    .dataframe tbody tr th {\n",
       "        vertical-align: top;\n",
       "    }\n",
       "\n",
       "    .dataframe thead th {\n",
       "        text-align: right;\n",
       "    }\n",
       "</style>\n",
       "<table border=\"1\" class=\"dataframe\">\n",
       "  <thead>\n",
       "    <tr style=\"text-align: right;\">\n",
       "      <th></th>\n",
       "      <th>gender</th>\n",
       "      <th>lunch</th>\n",
       "      <th>math_score</th>\n",
       "      <th>reading_score</th>\n",
       "      <th>writing_score</th>\n",
       "      <th>race_ethnicity_group A</th>\n",
       "      <th>race_ethnicity_group B</th>\n",
       "      <th>race_ethnicity_group C</th>\n",
       "      <th>race_ethnicity_group D</th>\n",
       "      <th>race_ethnicity_group E</th>\n",
       "      <th>Education_associate's degree</th>\n",
       "      <th>Education_bachelor's degree</th>\n",
       "      <th>Education_high school</th>\n",
       "      <th>Education_master's degree</th>\n",
       "      <th>Education_some college</th>\n",
       "      <th>Education_some high school</th>\n",
       "      <th>test_preparation_course_completed</th>\n",
       "      <th>test_preparation_course_none</th>\n",
       "    </tr>\n",
       "  </thead>\n",
       "  <tbody>\n",
       "    <tr>\n",
       "      <th>0</th>\n",
       "      <td>1</td>\n",
       "      <td>1</td>\n",
       "      <td>67</td>\n",
       "      <td>67</td>\n",
       "      <td>63</td>\n",
       "      <td>1</td>\n",
       "      <td>0</td>\n",
       "      <td>0</td>\n",
       "      <td>0</td>\n",
       "      <td>0</td>\n",
       "      <td>0</td>\n",
       "      <td>0</td>\n",
       "      <td>1</td>\n",
       "      <td>0</td>\n",
       "      <td>0</td>\n",
       "      <td>0</td>\n",
       "      <td>1</td>\n",
       "      <td>0</td>\n",
       "    </tr>\n",
       "    <tr>\n",
       "      <th>1</th>\n",
       "      <td>0</td>\n",
       "      <td>0</td>\n",
       "      <td>40</td>\n",
       "      <td>59</td>\n",
       "      <td>55</td>\n",
       "      <td>0</td>\n",
       "      <td>0</td>\n",
       "      <td>0</td>\n",
       "      <td>1</td>\n",
       "      <td>0</td>\n",
       "      <td>0</td>\n",
       "      <td>0</td>\n",
       "      <td>0</td>\n",
       "      <td>0</td>\n",
       "      <td>0</td>\n",
       "      <td>1</td>\n",
       "      <td>0</td>\n",
       "      <td>1</td>\n",
       "    </tr>\n",
       "    <tr>\n",
       "      <th>2</th>\n",
       "      <td>1</td>\n",
       "      <td>0</td>\n",
       "      <td>59</td>\n",
       "      <td>60</td>\n",
       "      <td>50</td>\n",
       "      <td>0</td>\n",
       "      <td>0</td>\n",
       "      <td>0</td>\n",
       "      <td>0</td>\n",
       "      <td>1</td>\n",
       "      <td>0</td>\n",
       "      <td>0</td>\n",
       "      <td>0</td>\n",
       "      <td>0</td>\n",
       "      <td>1</td>\n",
       "      <td>0</td>\n",
       "      <td>0</td>\n",
       "      <td>1</td>\n",
       "    </tr>\n",
       "    <tr>\n",
       "      <th>3</th>\n",
       "      <td>1</td>\n",
       "      <td>1</td>\n",
       "      <td>77</td>\n",
       "      <td>78</td>\n",
       "      <td>68</td>\n",
       "      <td>0</td>\n",
       "      <td>1</td>\n",
       "      <td>0</td>\n",
       "      <td>0</td>\n",
       "      <td>0</td>\n",
       "      <td>0</td>\n",
       "      <td>0</td>\n",
       "      <td>1</td>\n",
       "      <td>0</td>\n",
       "      <td>0</td>\n",
       "      <td>0</td>\n",
       "      <td>0</td>\n",
       "      <td>1</td>\n",
       "    </tr>\n",
       "    <tr>\n",
       "      <th>4</th>\n",
       "      <td>1</td>\n",
       "      <td>1</td>\n",
       "      <td>78</td>\n",
       "      <td>73</td>\n",
       "      <td>68</td>\n",
       "      <td>0</td>\n",
       "      <td>0</td>\n",
       "      <td>0</td>\n",
       "      <td>0</td>\n",
       "      <td>1</td>\n",
       "      <td>1</td>\n",
       "      <td>0</td>\n",
       "      <td>0</td>\n",
       "      <td>0</td>\n",
       "      <td>0</td>\n",
       "      <td>0</td>\n",
       "      <td>1</td>\n",
       "      <td>0</td>\n",
       "    </tr>\n",
       "    <tr>\n",
       "      <th>...</th>\n",
       "      <td>...</td>\n",
       "      <td>...</td>\n",
       "      <td>...</td>\n",
       "      <td>...</td>\n",
       "      <td>...</td>\n",
       "      <td>...</td>\n",
       "      <td>...</td>\n",
       "      <td>...</td>\n",
       "      <td>...</td>\n",
       "      <td>...</td>\n",
       "      <td>...</td>\n",
       "      <td>...</td>\n",
       "      <td>...</td>\n",
       "      <td>...</td>\n",
       "      <td>...</td>\n",
       "      <td>...</td>\n",
       "      <td>...</td>\n",
       "      <td>...</td>\n",
       "    </tr>\n",
       "    <tr>\n",
       "      <th>995</th>\n",
       "      <td>1</td>\n",
       "      <td>1</td>\n",
       "      <td>73</td>\n",
       "      <td>70</td>\n",
       "      <td>65</td>\n",
       "      <td>0</td>\n",
       "      <td>0</td>\n",
       "      <td>1</td>\n",
       "      <td>0</td>\n",
       "      <td>0</td>\n",
       "      <td>0</td>\n",
       "      <td>0</td>\n",
       "      <td>1</td>\n",
       "      <td>0</td>\n",
       "      <td>0</td>\n",
       "      <td>0</td>\n",
       "      <td>0</td>\n",
       "      <td>1</td>\n",
       "    </tr>\n",
       "    <tr>\n",
       "      <th>996</th>\n",
       "      <td>1</td>\n",
       "      <td>0</td>\n",
       "      <td>85</td>\n",
       "      <td>91</td>\n",
       "      <td>92</td>\n",
       "      <td>0</td>\n",
       "      <td>0</td>\n",
       "      <td>0</td>\n",
       "      <td>1</td>\n",
       "      <td>0</td>\n",
       "      <td>1</td>\n",
       "      <td>0</td>\n",
       "      <td>0</td>\n",
       "      <td>0</td>\n",
       "      <td>0</td>\n",
       "      <td>0</td>\n",
       "      <td>1</td>\n",
       "      <td>0</td>\n",
       "    </tr>\n",
       "    <tr>\n",
       "      <th>997</th>\n",
       "      <td>0</td>\n",
       "      <td>0</td>\n",
       "      <td>32</td>\n",
       "      <td>35</td>\n",
       "      <td>41</td>\n",
       "      <td>0</td>\n",
       "      <td>0</td>\n",
       "      <td>1</td>\n",
       "      <td>0</td>\n",
       "      <td>0</td>\n",
       "      <td>0</td>\n",
       "      <td>0</td>\n",
       "      <td>0</td>\n",
       "      <td>0</td>\n",
       "      <td>0</td>\n",
       "      <td>1</td>\n",
       "      <td>0</td>\n",
       "      <td>1</td>\n",
       "    </tr>\n",
       "    <tr>\n",
       "      <th>998</th>\n",
       "      <td>0</td>\n",
       "      <td>1</td>\n",
       "      <td>73</td>\n",
       "      <td>74</td>\n",
       "      <td>82</td>\n",
       "      <td>0</td>\n",
       "      <td>0</td>\n",
       "      <td>1</td>\n",
       "      <td>0</td>\n",
       "      <td>0</td>\n",
       "      <td>0</td>\n",
       "      <td>0</td>\n",
       "      <td>0</td>\n",
       "      <td>0</td>\n",
       "      <td>1</td>\n",
       "      <td>0</td>\n",
       "      <td>0</td>\n",
       "      <td>1</td>\n",
       "    </tr>\n",
       "    <tr>\n",
       "      <th>999</th>\n",
       "      <td>1</td>\n",
       "      <td>1</td>\n",
       "      <td>65</td>\n",
       "      <td>60</td>\n",
       "      <td>62</td>\n",
       "      <td>1</td>\n",
       "      <td>0</td>\n",
       "      <td>0</td>\n",
       "      <td>0</td>\n",
       "      <td>0</td>\n",
       "      <td>0</td>\n",
       "      <td>0</td>\n",
       "      <td>0</td>\n",
       "      <td>0</td>\n",
       "      <td>1</td>\n",
       "      <td>0</td>\n",
       "      <td>1</td>\n",
       "      <td>0</td>\n",
       "    </tr>\n",
       "  </tbody>\n",
       "</table>\n",
       "<p>1000 rows × 18 columns</p>\n",
       "</div>"
      ],
      "text/plain": [
       "     gender  lunch  math_score  reading_score  writing_score  \\\n",
       "0         1      1          67             67             63   \n",
       "1         0      0          40             59             55   \n",
       "2         1      0          59             60             50   \n",
       "3         1      1          77             78             68   \n",
       "4         1      1          78             73             68   \n",
       "..      ...    ...         ...            ...            ...   \n",
       "995       1      1          73             70             65   \n",
       "996       1      0          85             91             92   \n",
       "997       0      0          32             35             41   \n",
       "998       0      1          73             74             82   \n",
       "999       1      1          65             60             62   \n",
       "\n",
       "     race_ethnicity_group A  race_ethnicity_group B  race_ethnicity_group C  \\\n",
       "0                         1                       0                       0   \n",
       "1                         0                       0                       0   \n",
       "2                         0                       0                       0   \n",
       "3                         0                       1                       0   \n",
       "4                         0                       0                       0   \n",
       "..                      ...                     ...                     ...   \n",
       "995                       0                       0                       1   \n",
       "996                       0                       0                       0   \n",
       "997                       0                       0                       1   \n",
       "998                       0                       0                       1   \n",
       "999                       1                       0                       0   \n",
       "\n",
       "     race_ethnicity_group D  race_ethnicity_group E  \\\n",
       "0                         0                       0   \n",
       "1                         1                       0   \n",
       "2                         0                       1   \n",
       "3                         0                       0   \n",
       "4                         0                       1   \n",
       "..                      ...                     ...   \n",
       "995                       0                       0   \n",
       "996                       1                       0   \n",
       "997                       0                       0   \n",
       "998                       0                       0   \n",
       "999                       0                       0   \n",
       "\n",
       "     Education_associate's degree  Education_bachelor's degree  \\\n",
       "0                               0                            0   \n",
       "1                               0                            0   \n",
       "2                               0                            0   \n",
       "3                               0                            0   \n",
       "4                               1                            0   \n",
       "..                            ...                          ...   \n",
       "995                             0                            0   \n",
       "996                             1                            0   \n",
       "997                             0                            0   \n",
       "998                             0                            0   \n",
       "999                             0                            0   \n",
       "\n",
       "     Education_high school  Education_master's degree  Education_some college  \\\n",
       "0                        1                          0                       0   \n",
       "1                        0                          0                       0   \n",
       "2                        0                          0                       1   \n",
       "3                        1                          0                       0   \n",
       "4                        0                          0                       0   \n",
       "..                     ...                        ...                     ...   \n",
       "995                      1                          0                       0   \n",
       "996                      0                          0                       0   \n",
       "997                      0                          0                       0   \n",
       "998                      0                          0                       1   \n",
       "999                      0                          0                       1   \n",
       "\n",
       "     Education_some high school  test_preparation_course_completed  \\\n",
       "0                             0                                  1   \n",
       "1                             1                                  0   \n",
       "2                             0                                  0   \n",
       "3                             0                                  0   \n",
       "4                             0                                  1   \n",
       "..                          ...                                ...   \n",
       "995                           0                                  0   \n",
       "996                           0                                  1   \n",
       "997                           1                                  0   \n",
       "998                           0                                  0   \n",
       "999                           0                                  1   \n",
       "\n",
       "     test_preparation_course_none  \n",
       "0                               0  \n",
       "1                               1  \n",
       "2                               1  \n",
       "3                               1  \n",
       "4                               0  \n",
       "..                            ...  \n",
       "995                             1  \n",
       "996                             0  \n",
       "997                             1  \n",
       "998                             1  \n",
       "999                             0  \n",
       "\n",
       "[1000 rows x 18 columns]"
      ]
     },
     "execution_count": 63,
     "metadata": {},
     "output_type": "execute_result"
    }
   ],
   "source": [
    "data"
   ]
  },
  {
   "cell_type": "markdown",
   "id": "967683ef",
   "metadata": {},
   "source": [
    "## Creating a new dependent feature to predict the total scores using ML model"
   ]
  },
  {
   "cell_type": "code",
   "execution_count": 64,
   "id": "a3eb2c43",
   "metadata": {},
   "outputs": [
    {
     "data": {
      "text/html": [
       "<div>\n",
       "<style scoped>\n",
       "    .dataframe tbody tr th:only-of-type {\n",
       "        vertical-align: middle;\n",
       "    }\n",
       "\n",
       "    .dataframe tbody tr th {\n",
       "        vertical-align: top;\n",
       "    }\n",
       "\n",
       "    .dataframe thead th {\n",
       "        text-align: right;\n",
       "    }\n",
       "</style>\n",
       "<table border=\"1\" class=\"dataframe\">\n",
       "  <thead>\n",
       "    <tr style=\"text-align: right;\">\n",
       "      <th></th>\n",
       "      <th>gender</th>\n",
       "      <th>lunch</th>\n",
       "      <th>math_score</th>\n",
       "      <th>reading_score</th>\n",
       "      <th>writing_score</th>\n",
       "      <th>race_ethnicity_group A</th>\n",
       "      <th>race_ethnicity_group B</th>\n",
       "      <th>race_ethnicity_group C</th>\n",
       "      <th>race_ethnicity_group D</th>\n",
       "      <th>race_ethnicity_group E</th>\n",
       "      <th>Education_associate's degree</th>\n",
       "      <th>Education_bachelor's degree</th>\n",
       "      <th>Education_high school</th>\n",
       "      <th>Education_master's degree</th>\n",
       "      <th>Education_some college</th>\n",
       "      <th>Education_some high school</th>\n",
       "      <th>test_preparation_course_completed</th>\n",
       "      <th>test_preparation_course_none</th>\n",
       "      <th>total_scores</th>\n",
       "    </tr>\n",
       "  </thead>\n",
       "  <tbody>\n",
       "    <tr>\n",
       "      <th>0</th>\n",
       "      <td>1</td>\n",
       "      <td>1</td>\n",
       "      <td>67</td>\n",
       "      <td>67</td>\n",
       "      <td>63</td>\n",
       "      <td>1</td>\n",
       "      <td>0</td>\n",
       "      <td>0</td>\n",
       "      <td>0</td>\n",
       "      <td>0</td>\n",
       "      <td>0</td>\n",
       "      <td>0</td>\n",
       "      <td>1</td>\n",
       "      <td>0</td>\n",
       "      <td>0</td>\n",
       "      <td>0</td>\n",
       "      <td>1</td>\n",
       "      <td>0</td>\n",
       "      <td>197</td>\n",
       "    </tr>\n",
       "    <tr>\n",
       "      <th>1</th>\n",
       "      <td>0</td>\n",
       "      <td>0</td>\n",
       "      <td>40</td>\n",
       "      <td>59</td>\n",
       "      <td>55</td>\n",
       "      <td>0</td>\n",
       "      <td>0</td>\n",
       "      <td>0</td>\n",
       "      <td>1</td>\n",
       "      <td>0</td>\n",
       "      <td>0</td>\n",
       "      <td>0</td>\n",
       "      <td>0</td>\n",
       "      <td>0</td>\n",
       "      <td>0</td>\n",
       "      <td>1</td>\n",
       "      <td>0</td>\n",
       "      <td>1</td>\n",
       "      <td>154</td>\n",
       "    </tr>\n",
       "    <tr>\n",
       "      <th>2</th>\n",
       "      <td>1</td>\n",
       "      <td>0</td>\n",
       "      <td>59</td>\n",
       "      <td>60</td>\n",
       "      <td>50</td>\n",
       "      <td>0</td>\n",
       "      <td>0</td>\n",
       "      <td>0</td>\n",
       "      <td>0</td>\n",
       "      <td>1</td>\n",
       "      <td>0</td>\n",
       "      <td>0</td>\n",
       "      <td>0</td>\n",
       "      <td>0</td>\n",
       "      <td>1</td>\n",
       "      <td>0</td>\n",
       "      <td>0</td>\n",
       "      <td>1</td>\n",
       "      <td>169</td>\n",
       "    </tr>\n",
       "    <tr>\n",
       "      <th>3</th>\n",
       "      <td>1</td>\n",
       "      <td>1</td>\n",
       "      <td>77</td>\n",
       "      <td>78</td>\n",
       "      <td>68</td>\n",
       "      <td>0</td>\n",
       "      <td>1</td>\n",
       "      <td>0</td>\n",
       "      <td>0</td>\n",
       "      <td>0</td>\n",
       "      <td>0</td>\n",
       "      <td>0</td>\n",
       "      <td>1</td>\n",
       "      <td>0</td>\n",
       "      <td>0</td>\n",
       "      <td>0</td>\n",
       "      <td>0</td>\n",
       "      <td>1</td>\n",
       "      <td>223</td>\n",
       "    </tr>\n",
       "    <tr>\n",
       "      <th>4</th>\n",
       "      <td>1</td>\n",
       "      <td>1</td>\n",
       "      <td>78</td>\n",
       "      <td>73</td>\n",
       "      <td>68</td>\n",
       "      <td>0</td>\n",
       "      <td>0</td>\n",
       "      <td>0</td>\n",
       "      <td>0</td>\n",
       "      <td>1</td>\n",
       "      <td>1</td>\n",
       "      <td>0</td>\n",
       "      <td>0</td>\n",
       "      <td>0</td>\n",
       "      <td>0</td>\n",
       "      <td>0</td>\n",
       "      <td>1</td>\n",
       "      <td>0</td>\n",
       "      <td>219</td>\n",
       "    </tr>\n",
       "  </tbody>\n",
       "</table>\n",
       "</div>"
      ],
      "text/plain": [
       "   gender  lunch  math_score  reading_score  writing_score  \\\n",
       "0       1      1          67             67             63   \n",
       "1       0      0          40             59             55   \n",
       "2       1      0          59             60             50   \n",
       "3       1      1          77             78             68   \n",
       "4       1      1          78             73             68   \n",
       "\n",
       "   race_ethnicity_group A  race_ethnicity_group B  race_ethnicity_group C  \\\n",
       "0                       1                       0                       0   \n",
       "1                       0                       0                       0   \n",
       "2                       0                       0                       0   \n",
       "3                       0                       1                       0   \n",
       "4                       0                       0                       0   \n",
       "\n",
       "   race_ethnicity_group D  race_ethnicity_group E  \\\n",
       "0                       0                       0   \n",
       "1                       1                       0   \n",
       "2                       0                       1   \n",
       "3                       0                       0   \n",
       "4                       0                       1   \n",
       "\n",
       "   Education_associate's degree  Education_bachelor's degree  \\\n",
       "0                             0                            0   \n",
       "1                             0                            0   \n",
       "2                             0                            0   \n",
       "3                             0                            0   \n",
       "4                             1                            0   \n",
       "\n",
       "   Education_high school  Education_master's degree  Education_some college  \\\n",
       "0                      1                          0                       0   \n",
       "1                      0                          0                       0   \n",
       "2                      0                          0                       1   \n",
       "3                      1                          0                       0   \n",
       "4                      0                          0                       0   \n",
       "\n",
       "   Education_some high school  test_preparation_course_completed  \\\n",
       "0                           0                                  1   \n",
       "1                           1                                  0   \n",
       "2                           0                                  0   \n",
       "3                           0                                  0   \n",
       "4                           0                                  1   \n",
       "\n",
       "   test_preparation_course_none  total_scores  \n",
       "0                             0           197  \n",
       "1                             1           154  \n",
       "2                             1           169  \n",
       "3                             1           223  \n",
       "4                             0           219  "
      ]
     },
     "execution_count": 64,
     "metadata": {},
     "output_type": "execute_result"
    }
   ],
   "source": [
    "data['total_scores'] = data['math_score']+data['reading_score']+data['writing_score']\n",
    "data.head()"
   ]
  },
  {
   "cell_type": "code",
   "execution_count": 65,
   "id": "a1d61825",
   "metadata": {},
   "outputs": [
    {
     "data": {
      "text/plain": [
       "<AxesSubplot:xlabel='total_scores'>"
      ]
     },
     "execution_count": 65,
     "metadata": {},
     "output_type": "execute_result"
    },
    {
     "data": {
      "image/png": "[encoded data removed]",
      "text/plain": [
       "<Figure size 432x288 with 1 Axes>"
      ]
     },
     "metadata": {
      "needs_background": "light"
     },
     "output_type": "display_data"
    }
   ],
   "source": [
    "sns.boxplot(data['total_scores'])"
   ]
  },
  {
   "cell_type": "markdown",
   "id": "eb912046",
   "metadata": {},
   "source": [
    "## We can see that the total scores distributed between the range of 170 - 240 mostly..\n",
    "## But the range extends upto the range of 80-300.\n",
    "##  Also there are some outliers which shows that there are some students who did not perform well on other scores"
   ]
  },
  {
   "cell_type": "markdown",
   "id": "86c72a18",
   "metadata": {},
   "source": [
    "## Splitting the dataset into independent and dependent variables"
   ]
  },
  {
   "cell_type": "code",
   "execution_count": 66,
   "id": "3ed9eec1",
   "metadata": {},
   "outputs": [
    {
     "data": {
      "text/plain": [
       "Index(['gender', 'lunch', 'math_score', 'reading_score', 'writing_score',\n",
       "       'race_ethnicity_group A', 'race_ethnicity_group B',\n",
       "       'race_ethnicity_group C', 'race_ethnicity_group D',\n",
       "       'race_ethnicity_group E', 'Education_associate's degree',\n",
       "       'Education_bachelor's degree', 'Education_high school',\n",
       "       'Education_master's degree', 'Education_some college',\n",
       "       'Education_some high school', 'test_preparation_course_completed',\n",
       "       'test_preparation_course_none', 'total_scores'],\n",
       "      dtype='object')"
      ]
     },
     "execution_count": 66,
     "metadata": {},
     "output_type": "execute_result"
    }
   ],
   "source": [
    "data.columns"
   ]
  },
  {
   "cell_type": "code",
   "execution_count": 67,
   "id": "b61b490b",
   "metadata": {},
   "outputs": [],
   "source": [
    "X=data.drop(['total_scores'], axis=1)\n",
    "y=data['total_scores']"
   ]
  },
  {
   "cell_type": "code",
   "execution_count": 68,
   "id": "557f977e",
   "metadata": {},
   "outputs": [
    {
     "data": {
      "text/html": [
       "<div>\n",
       "<style scoped>\n",
       "    .dataframe tbody tr th:only-of-type {\n",
       "        vertical-align: middle;\n",
       "    }\n",
       "\n",
       "    .dataframe tbody tr th {\n",
       "        vertical-align: top;\n",
       "    }\n",
       "\n",
       "    .dataframe thead th {\n",
       "        text-align: right;\n",
       "    }\n",
       "</style>\n",
       "<table border=\"1\" class=\"dataframe\">\n",
       "  <thead>\n",
       "    <tr style=\"text-align: right;\">\n",
       "      <th></th>\n",
       "      <th>gender</th>\n",
       "      <th>lunch</th>\n",
       "      <th>math_score</th>\n",
       "      <th>reading_score</th>\n",
       "      <th>writing_score</th>\n",
       "      <th>race_ethnicity_group A</th>\n",
       "      <th>race_ethnicity_group B</th>\n",
       "      <th>race_ethnicity_group C</th>\n",
       "      <th>race_ethnicity_group D</th>\n",
       "      <th>race_ethnicity_group E</th>\n",
       "      <th>Education_associate's degree</th>\n",
       "      <th>Education_bachelor's degree</th>\n",
       "      <th>Education_high school</th>\n",
       "      <th>Education_master's degree</th>\n",
       "      <th>Education_some college</th>\n",
       "      <th>Education_some high school</th>\n",
       "      <th>test_preparation_course_completed</th>\n",
       "      <th>test_preparation_course_none</th>\n",
       "    </tr>\n",
       "  </thead>\n",
       "  <tbody>\n",
       "    <tr>\n",
       "      <th>0</th>\n",
       "      <td>1</td>\n",
       "      <td>1</td>\n",
       "      <td>67</td>\n",
       "      <td>67</td>\n",
       "      <td>63</td>\n",
       "      <td>1</td>\n",
       "      <td>0</td>\n",
       "      <td>0</td>\n",
       "      <td>0</td>\n",
       "      <td>0</td>\n",
       "      <td>0</td>\n",
       "      <td>0</td>\n",
       "      <td>1</td>\n",
       "      <td>0</td>\n",
       "      <td>0</td>\n",
       "      <td>0</td>\n",
       "      <td>1</td>\n",
       "      <td>0</td>\n",
       "    </tr>\n",
       "    <tr>\n",
       "      <th>1</th>\n",
       "      <td>0</td>\n",
       "      <td>0</td>\n",
       "      <td>40</td>\n",
       "      <td>59</td>\n",
       "      <td>55</td>\n",
       "      <td>0</td>\n",
       "      <td>0</td>\n",
       "      <td>0</td>\n",
       "      <td>1</td>\n",
       "      <td>0</td>\n",
       "      <td>0</td>\n",
       "      <td>0</td>\n",
       "      <td>0</td>\n",
       "      <td>0</td>\n",
       "      <td>0</td>\n",
       "      <td>1</td>\n",
       "      <td>0</td>\n",
       "      <td>1</td>\n",
       "    </tr>\n",
       "    <tr>\n",
       "      <th>2</th>\n",
       "      <td>1</td>\n",
       "      <td>0</td>\n",
       "      <td>59</td>\n",
       "      <td>60</td>\n",
       "      <td>50</td>\n",
       "      <td>0</td>\n",
       "      <td>0</td>\n",
       "      <td>0</td>\n",
       "      <td>0</td>\n",
       "      <td>1</td>\n",
       "      <td>0</td>\n",
       "      <td>0</td>\n",
       "      <td>0</td>\n",
       "      <td>0</td>\n",
       "      <td>1</td>\n",
       "      <td>0</td>\n",
       "      <td>0</td>\n",
       "      <td>1</td>\n",
       "    </tr>\n",
       "    <tr>\n",
       "      <th>3</th>\n",
       "      <td>1</td>\n",
       "      <td>1</td>\n",
       "      <td>77</td>\n",
       "      <td>78</td>\n",
       "      <td>68</td>\n",
       "      <td>0</td>\n",
       "      <td>1</td>\n",
       "      <td>0</td>\n",
       "      <td>0</td>\n",
       "      <td>0</td>\n",
       "      <td>0</td>\n",
       "      <td>0</td>\n",
       "      <td>1</td>\n",
       "      <td>0</td>\n",
       "      <td>0</td>\n",
       "      <td>0</td>\n",
       "      <td>0</td>\n",
       "      <td>1</td>\n",
       "    </tr>\n",
       "    <tr>\n",
       "      <th>4</th>\n",
       "      <td>1</td>\n",
       "      <td>1</td>\n",
       "      <td>78</td>\n",
       "      <td>73</td>\n",
       "      <td>68</td>\n",
       "      <td>0</td>\n",
       "      <td>0</td>\n",
       "      <td>0</td>\n",
       "      <td>0</td>\n",
       "      <td>1</td>\n",
       "      <td>1</td>\n",
       "      <td>0</td>\n",
       "      <td>0</td>\n",
       "      <td>0</td>\n",
       "      <td>0</td>\n",
       "      <td>0</td>\n",
       "      <td>1</td>\n",
       "      <td>0</td>\n",
       "    </tr>\n",
       "    <tr>\n",
       "      <th>...</th>\n",
       "      <td>...</td>\n",
       "      <td>...</td>\n",
       "      <td>...</td>\n",
       "      <td>...</td>\n",
       "      <td>...</td>\n",
       "      <td>...</td>\n",
       "      <td>...</td>\n",
       "      <td>...</td>\n",
       "      <td>...</td>\n",
       "      <td>...</td>\n",
       "      <td>...</td>\n",
       "      <td>...</td>\n",
       "      <td>...</td>\n",
       "      <td>...</td>\n",
       "      <td>...</td>\n",
       "      <td>...</td>\n",
       "      <td>...</td>\n",
       "      <td>...</td>\n",
       "    </tr>\n",
       "    <tr>\n",
       "      <th>995</th>\n",
       "      <td>1</td>\n",
       "      <td>1</td>\n",
       "      <td>73</td>\n",
       "      <td>70</td>\n",
       "      <td>65</td>\n",
       "      <td>0</td>\n",
       "      <td>0</td>\n",
       "      <td>1</td>\n",
       "      <td>0</td>\n",
       "      <td>0</td>\n",
       "      <td>0</td>\n",
       "      <td>0</td>\n",
       "      <td>1</td>\n",
       "      <td>0</td>\n",
       "      <td>0</td>\n",
       "      <td>0</td>\n",
       "      <td>0</td>\n",
       "      <td>1</td>\n",
       "    </tr>\n",
       "    <tr>\n",
       "      <th>996</th>\n",
       "      <td>1</td>\n",
       "      <td>0</td>\n",
       "      <td>85</td>\n",
       "      <td>91</td>\n",
       "      <td>92</td>\n",
       "      <td>0</td>\n",
       "      <td>0</td>\n",
       "      <td>0</td>\n",
       "      <td>1</td>\n",
       "      <td>0</td>\n",
       "      <td>1</td>\n",
       "      <td>0</td>\n",
       "      <td>0</td>\n",
       "      <td>0</td>\n",
       "      <td>0</td>\n",
       "      <td>0</td>\n",
       "      <td>1</td>\n",
       "      <td>0</td>\n",
       "    </tr>\n",
       "    <tr>\n",
       "      <th>997</th>\n",
       "      <td>0</td>\n",
       "      <td>0</td>\n",
       "      <td>32</td>\n",
       "      <td>35</td>\n",
       "      <td>41</td>\n",
       "      <td>0</td>\n",
       "      <td>0</td>\n",
       "      <td>1</td>\n",
       "      <td>0</td>\n",
       "      <td>0</td>\n",
       "      <td>0</td>\n",
       "      <td>0</td>\n",
       "      <td>0</td>\n",
       "      <td>0</td>\n",
       "      <td>0</td>\n",
       "      <td>1</td>\n",
       "      <td>0</td>\n",
       "      <td>1</td>\n",
       "    </tr>\n",
       "    <tr>\n",
       "      <th>998</th>\n",
       "      <td>0</td>\n",
       "      <td>1</td>\n",
       "      <td>73</td>\n",
       "      <td>74</td>\n",
       "      <td>82</td>\n",
       "      <td>0</td>\n",
       "      <td>0</td>\n",
       "      <td>1</td>\n",
       "      <td>0</td>\n",
       "      <td>0</td>\n",
       "      <td>0</td>\n",
       "      <td>0</td>\n",
       "      <td>0</td>\n",
       "      <td>0</td>\n",
       "      <td>1</td>\n",
       "      <td>0</td>\n",
       "      <td>0</td>\n",
       "      <td>1</td>\n",
       "    </tr>\n",
       "    <tr>\n",
       "      <th>999</th>\n",
       "      <td>1</td>\n",
       "      <td>1</td>\n",
       "      <td>65</td>\n",
       "      <td>60</td>\n",
       "      <td>62</td>\n",
       "      <td>1</td>\n",
       "      <td>0</td>\n",
       "      <td>0</td>\n",
       "      <td>0</td>\n",
       "      <td>0</td>\n",
       "      <td>0</td>\n",
       "      <td>0</td>\n",
       "      <td>0</td>\n",
       "      <td>0</td>\n",
       "      <td>1</td>\n",
       "      <td>0</td>\n",
       "      <td>1</td>\n",
       "      <td>0</td>\n",
       "    </tr>\n",
       "  </tbody>\n",
       "</table>\n",
       "<p>1000 rows × 18 columns</p>\n",
       "</div>"
      ],
      "text/plain": [
       "     gender  lunch  math_score  reading_score  writing_score  \\\n",
       "0         1      1          67             67             63   \n",
       "1         0      0          40             59             55   \n",
       "2         1      0          59             60             50   \n",
       "3         1      1          77             78             68   \n",
       "4         1      1          78             73             68   \n",
       "..      ...    ...         ...            ...            ...   \n",
       "995       1      1          73             70             65   \n",
       "996       1      0          85             91             92   \n",
       "997       0      0          32             35             41   \n",
       "998       0      1          73             74             82   \n",
       "999       1      1          65             60             62   \n",
       "\n",
       "     race_ethnicity_group A  race_ethnicity_group B  race_ethnicity_group C  \\\n",
       "0                         1                       0                       0   \n",
       "1                         0                       0                       0   \n",
       "2                         0                       0                       0   \n",
       "3                         0                       1                       0   \n",
       "4                         0                       0                       0   \n",
       "..                      ...                     ...                     ...   \n",
       "995                       0                       0                       1   \n",
       "996                       0                       0                       0   \n",
       "997                       0                       0                       1   \n",
       "998                       0                       0                       1   \n",
       "999                       1                       0                       0   \n",
       "\n",
       "     race_ethnicity_group D  race_ethnicity_group E  \\\n",
       "0                         0                       0   \n",
       "1                         1                       0   \n",
       "2                         0                       1   \n",
       "3                         0                       0   \n",
       "4                         0                       1   \n",
       "..                      ...                     ...   \n",
       "995                       0                       0   \n",
       "996                       1                       0   \n",
       "997                       0                       0   \n",
       "998                       0                       0   \n",
       "999                       0                       0   \n",
       "\n",
       "     Education_associate's degree  Education_bachelor's degree  \\\n",
       "0                               0                            0   \n",
       "1                               0                            0   \n",
       "2                               0                            0   \n",
       "3                               0                            0   \n",
       "4                               1                            0   \n",
       "..                            ...                          ...   \n",
       "995                             0                            0   \n",
       "996                             1                            0   \n",
       "997                             0                            0   \n",
       "998                             0                            0   \n",
       "999                             0                            0   \n",
       "\n",
       "     Education_high school  Education_master's degree  Education_some college  \\\n",
       "0                        1                          0                       0   \n",
       "1                        0                          0                       0   \n",
       "2                        0                          0                       1   \n",
       "3                        1                          0                       0   \n",
       "4                        0                          0                       0   \n",
       "..                     ...                        ...                     ...   \n",
       "995                      1                          0                       0   \n",
       "996                      0                          0                       0   \n",
       "997                      0                          0                       0   \n",
       "998                      0                          0                       1   \n",
       "999                      0                          0                       1   \n",
       "\n",
       "     Education_some high school  test_preparation_course_completed  \\\n",
       "0                             0                                  1   \n",
       "1                             1                                  0   \n",
       "2                             0                                  0   \n",
       "3                             0                                  0   \n",
       "4                             0                                  1   \n",
       "..                          ...                                ...   \n",
       "995                           0                                  0   \n",
       "996                           0                                  1   \n",
       "997                           1                                  0   \n",
       "998                           0                                  0   \n",
       "999                           0                                  1   \n",
       "\n",
       "     test_preparation_course_none  \n",
       "0                               0  \n",
       "1                               1  \n",
       "2                               1  \n",
       "3                               1  \n",
       "4                               0  \n",
       "..                            ...  \n",
       "995                             1  \n",
       "996                             0  \n",
       "997                             1  \n",
       "998                             1  \n",
       "999                             0  \n",
       "\n",
       "[1000 rows x 18 columns]"
      ]
     },
     "execution_count": 68,
     "metadata": {},
     "output_type": "execute_result"
    }
   ],
   "source": [
    "X"
   ]
  },
  {
   "cell_type": "code",
   "execution_count": 69,
   "id": "15152a2c",
   "metadata": {},
   "outputs": [
    {
     "data": {
      "text/plain": [
       "0      197\n",
       "1      154\n",
       "2      169\n",
       "3      223\n",
       "4      219\n",
       "      ... \n",
       "995    208\n",
       "996    268\n",
       "997    108\n",
       "998    229\n",
       "999    187\n",
       "Name: total_scores, Length: 1000, dtype: int64"
      ]
     },
     "execution_count": 69,
     "metadata": {},
     "output_type": "execute_result"
    }
   ],
   "source": [
    "y"
   ]
  },
  {
   "cell_type": "markdown",
   "id": "c8876264",
   "metadata": {},
   "source": [
    "## Splitting the dataset for training and testing the Model "
   ]
  },
  {
   "cell_type": "code",
   "execution_count": 70,
   "id": "876e9f9f",
   "metadata": {},
   "outputs": [],
   "source": [
    "from sklearn.model_selection import train_test_split\n",
    "X_train,X_test,y_train,y_test=train_test_split(X,y,test_size=0.3,random_state=0)"
   ]
  },
  {
   "cell_type": "code",
   "execution_count": 71,
   "id": "9f338d88",
   "metadata": {},
   "outputs": [
    {
     "name": "stdout",
     "output_type": "stream",
     "text": [
      "     gender  lunch  math_score  reading_score  writing_score  \\\n",
      "105       0      1          70             78             82   \n",
      "68        1      1          79             64             60   \n",
      "479       1      0          62             43             45   \n",
      "399       0      0          53             70             69   \n",
      "434       1      1          67             63             66   \n",
      "..      ...    ...         ...            ...            ...   \n",
      "835       0      1          76             81             79   \n",
      "192       1      0          68             62             61   \n",
      "629       1      1          72             59             54   \n",
      "559       1      0          56             48             36   \n",
      "684       1      0          69             77             70   \n",
      "\n",
      "     race_ethnicity_group A  race_ethnicity_group B  race_ethnicity_group C  \\\n",
      "105                       0                       0                       0   \n",
      "68                        0                       1                       0   \n",
      "479                       0                       0                       1   \n",
      "399                       1                       0                       0   \n",
      "434                       0                       0                       1   \n",
      "..                      ...                     ...                     ...   \n",
      "835                       0                       1                       0   \n",
      "192                       0                       0                       0   \n",
      "629                       0                       0                       1   \n",
      "559                       0                       0                       0   \n",
      "684                       0                       0                       1   \n",
      "\n",
      "     race_ethnicity_group D  race_ethnicity_group E  \\\n",
      "105                       1                       0   \n",
      "68                        0                       0   \n",
      "479                       0                       0   \n",
      "399                       0                       0   \n",
      "434                       0                       0   \n",
      "..                      ...                     ...   \n",
      "835                       0                       0   \n",
      "192                       0                       1   \n",
      "629                       0                       0   \n",
      "559                       0                       1   \n",
      "684                       0                       0   \n",
      "\n",
      "     Education_associate's degree  Education_bachelor's degree  \\\n",
      "105                             0                            1   \n",
      "68                              0                            0   \n",
      "479                             1                            0   \n",
      "399                             0                            0   \n",
      "434                             1                            0   \n",
      "..                            ...                          ...   \n",
      "835                             0                            0   \n",
      "192                             0                            0   \n",
      "629                             0                            0   \n",
      "559                             0                            0   \n",
      "684                             1                            0   \n",
      "\n",
      "     Education_high school  Education_master's degree  Education_some college  \\\n",
      "105                      0                          0                       0   \n",
      "68                       1                          0                       0   \n",
      "479                      0                          0                       0   \n",
      "399                      0                          0                       1   \n",
      "434                      0                          0                       0   \n",
      "..                     ...                        ...                     ...   \n",
      "835                      0                          0                       0   \n",
      "192                      0                          0                       0   \n",
      "629                      1                          0                       0   \n",
      "559                      1                          0                       0   \n",
      "684                      0                          0                       0   \n",
      "\n",
      "     Education_some high school  test_preparation_course_completed  \\\n",
      "105                           0                                  0   \n",
      "68                            0                                  0   \n",
      "479                           0                                  0   \n",
      "399                           0                                  1   \n",
      "434                           0                                  0   \n",
      "..                          ...                                ...   \n",
      "835                           1                                  0   \n",
      "192                           1                                  0   \n",
      "629                           0                                  0   \n",
      "559                           0                                  0   \n",
      "684                           0                                  0   \n",
      "\n",
      "     test_preparation_course_none  \n",
      "105                             1  \n",
      "68                              1  \n",
      "479                             1  \n",
      "399                             0  \n",
      "434                             1  \n",
      "..                            ...  \n",
      "835                             1  \n",
      "192                             1  \n",
      "629                             1  \n",
      "559                             1  \n",
      "684                             1  \n",
      "\n",
      "[700 rows x 18 columns]\n"
     ]
    }
   ],
   "source": [
    "print(X_train)"
   ]
  },
  {
   "cell_type": "code",
   "execution_count": 72,
   "id": "48637b9d",
   "metadata": {},
   "outputs": [
    {
     "name": "stdout",
     "output_type": "stream",
     "text": [
      "105    230\n",
      "68     203\n",
      "479    150\n",
      "399    192\n",
      "434    196\n",
      "      ... \n",
      "835    236\n",
      "192    191\n",
      "629    185\n",
      "559    140\n",
      "684    216\n",
      "Name: total_scores, Length: 700, dtype: int64\n"
     ]
    }
   ],
   "source": [
    "print(y_train)"
   ]
  },
  {
   "cell_type": "code",
   "execution_count": 73,
   "id": "9c78024c",
   "metadata": {},
   "outputs": [
    {
     "data": {
      "text/plain": [
       "(700, 18)"
      ]
     },
     "execution_count": 73,
     "metadata": {},
     "output_type": "execute_result"
    }
   ],
   "source": [
    "X_train.shape"
   ]
  },
  {
   "cell_type": "code",
   "execution_count": 74,
   "id": "f460d9ed",
   "metadata": {},
   "outputs": [
    {
     "data": {
      "text/plain": [
       "(300, 18)"
      ]
     },
     "execution_count": 74,
     "metadata": {},
     "output_type": "execute_result"
    }
   ],
   "source": [
    "X_test.shape"
   ]
  },
  {
   "cell_type": "code",
   "execution_count": 75,
   "id": "72b515f2",
   "metadata": {},
   "outputs": [
    {
     "data": {
      "text/plain": [
       "(300,)"
      ]
     },
     "execution_count": 75,
     "metadata": {},
     "output_type": "execute_result"
    }
   ],
   "source": [
    "y_test.shape"
   ]
  },
  {
   "cell_type": "markdown",
   "id": "7ddc76f2",
   "metadata": {},
   "source": [
    "# MODELLING"
   ]
  },
  {
   "cell_type": "markdown",
   "id": "3ed5b819",
   "metadata": {},
   "source": [
    "## Decission Tree Regression"
   ]
  },
  {
   "cell_type": "code",
   "execution_count": 76,
   "id": "97937e53",
   "metadata": {},
   "outputs": [
    {
     "data": {
      "text/plain": [
       "DecisionTreeRegressor(max_depth=7)"
      ]
     },
     "execution_count": 76,
     "metadata": {},
     "output_type": "execute_result"
    }
   ],
   "source": [
    "from sklearn.tree import DecisionTreeRegressor\n",
    "dec_reg=DecisionTreeRegressor(max_depth=7)\n",
    "dec_reg"
   ]
  },
  {
   "cell_type": "code",
   "execution_count": 77,
   "id": "e8152de6",
   "metadata": {},
   "outputs": [
    {
     "data": {
      "text/plain": [
       "DecisionTreeRegressor(max_depth=7)"
      ]
     },
     "execution_count": 77,
     "metadata": {},
     "output_type": "execute_result"
    }
   ],
   "source": [
    "dec_reg.fit(X_train,y_train)"
   ]
  },
  {
   "cell_type": "code",
   "execution_count": 78,
   "id": "4c25c859",
   "metadata": {},
   "outputs": [
    {
     "name": "stdout",
     "output_type": "stream",
     "text": [
      "[233.91666667 198.33333333 151.         191.         194.1875\n",
      " 214.36363636 229.42857143 226.8        200.8        178.46666667\n",
      " 111.         194.1875     226.8        245.8        227.\n",
      " 141.70588235 191.         235.57894737 152.44444444 180.\n",
      " 259.65384615 225.         217.75       176.33333333 204.6\n",
      " 167.83333333 209.15384615 227.4        194.1875     237.66666667\n",
      " 201.16666667 285.         271.         161.23076923 239.71428571\n",
      " 176.33333333 239.71428571 230.         218.27777778 189.77777778\n",
      " 167.83333333 189.77777778 191.         247.         270.28571429\n",
      " 141.70588235 141.70588235 180.         281.         209.15384615\n",
      " 233.91666667 235.57894737 214.18181818 260.42857143 270.28571429\n",
      " 214.36363636 194.1875     111.         161.23076923 181.69230769\n",
      " 235.57894737 181.69230769 221.75       204.6        185.66666667\n",
      " 233.91666667 195.         180.         245.5        189.77777778\n",
      " 186.44444444 182.66666667 182.66666667 194.1875     173.66666667\n",
      " 129.         204.54545455 129.         239.5        226.8\n",
      " 229.         245.8        186.44444444 218.27777778 126.5\n",
      " 204.54545455 259.65384615 208.91666667 165.75       180.\n",
      " 176.33333333 198.         194.1875     264.75       214.36363636\n",
      " 111.         241.66666667 260.42857143 201.16666667 201.16666667\n",
      " 239.71428571 101.71428571 186.44444444 259.65384615 160.5\n",
      " 214.36363636 252.73333333 169.5        288.5        233.91666667\n",
      " 285.         194.1875     189.66666667 214.18181818 129.\n",
      " 270.28571429 224.42857143 251.16666667 203.         200.8\n",
      " 171.33333333 145.71428571 235.57894737 194.1875     151.\n",
      " 235.57894737 119.8        134.         171.33333333 154.125\n",
      " 233.91666667 173.66666667 186.28571429 116.         270.28571429\n",
      " 293.2        171.33333333 194.1875     194.1875     178.46666667\n",
      " 189.66666667 271.         259.65384615 208.91666667 178.46666667\n",
      " 209.71428571  93.         260.42857143 129.         259.65384615\n",
      " 226.8        176.33333333 252.73333333 241.66666667 259.65384615\n",
      " 154.         181.69230769 226.8        235.57894737  97.\n",
      "  88.         186.28571429 224.42857143 214.36363636 239.71428571\n",
      " 189.66666667 245.8        211.         239.71428571 271.\n",
      " 252.73333333 229.5        160.5        205.5        162.85714286\n",
      " 101.71428571 247.         161.23076923 171.33333333 145.71428571\n",
      " 208.         178.46666667 178.46666667 218.27777778 259.65384615\n",
      " 189.66666667 194.1875     189.66666667 252.73333333 265.\n",
      " 111.         176.33333333 141.70588235 201.16666667 226.8\n",
      " 204.54545455 162.85714286 141.70588235 229.42857143 208.91666667\n",
      " 178.46666667 288.5        277.66666667 235.57894737 194.1875\n",
      " 264.75       204.54545455 276.         202.75       285.\n",
      " 186.28571429 218.27777778 194.1875     152.44444444 229.\n",
      " 283.         178.46666667 293.2        293.2        229.42857143\n",
      " 252.73333333 214.18181818 218.27777778 235.5        194.1875\n",
      "  65.         235.57894737 168.5        259.65384615 141.83333333\n",
      " 238.66666667 300.         239.         196.         235.57894737\n",
      " 218.27777778 226.8        194.1875     221.75       136.8\n",
      " 280.5        204.54545455 194.1875     171.33333333 194.1875\n",
      " 194.1875     167.83333333 194.1875     214.18181818 194.1875\n",
      " 198.         221.75       162.85714286 161.23076923 209.71428571\n",
      " 141.70588235 191.         182.66666667 141.83333333 226.8\n",
      " 235.57894737 218.27777778 141.70588235 224.42857143 119.8\n",
      " 101.71428571 226.8        224.42857143 235.57894737 237.66666667\n",
      " 237.66666667 271.         214.36363636 259.65384615 154.125\n",
      " 208.91666667 259.65384615 259.65384615 227.4        186.44444444\n",
      " 260.42857143 189.77777778 141.70588235 169.5        226.8\n",
      " 186.44444444 260.42857143 209.15384615 202.75       179.\n",
      " 259.65384615 191.         204.6        101.71428571 300.\n",
      " 233.91666667 218.27777778 152.44444444 145.71428571 194.1875\n",
      " 226.8        152.44444444 143.5        161.23076923 112.5\n",
      " 141.70588235  93.         182.66666667 204.54545455 189.77777778\n",
      " 218.27777778 167.83333333 169.5        194.1875     181.69230769\n",
      " 226.8        252.73333333 218.27777778 214.18181818 152.44444444\n",
      " 181.69230769 141.70588235 161.23076923 189.66666667 204.54545455\n",
      " 206.         181.69230769 167.5        181.         214.18181818\n",
      " 208.91666667 209.15384615 119.8        241.66666667 160.\n",
      " 111.         217.75       202.75       141.83333333 239.71428571\n",
      " 178.46666667 198.         141.70588235 281.66666667 194.1875\n",
      " 300.         198.         297.         160.         218.27777778\n",
      " 235.57894737 189.77777778 270.28571429 238.66666667 280.5\n",
      " 171.33333333 214.18181818 198.33333333 241.66666667 136.8\n",
      " 136.8        241.66666667 209.71428571 214.36363636 209.15384615\n",
      " 226.8        145.71428571 259.65384615 182.66666667 129.\n",
      " 224.42857143 194.1875     247.         271.         136.8\n",
      " 186.28571429 264.75       270.28571429 252.73333333 226.8\n",
      " 252.73333333 203.         181.         182.66666667 285.\n",
      " 152.44444444 247.         185.66666667 167.83333333 196.\n",
      " 154.125      112.5        181.69230769 180.         227.4\n",
      " 209.15384615 180.         209.15384615 173.66666667 189.66666667\n",
      " 189.77777778 136.8        226.8        179.         140.5\n",
      " 235.57894737 171.33333333 259.65384615 221.75       271.\n",
      " 204.6        160.         227.         224.42857143 167.83333333\n",
      " 229.42857143 226.8        270.28571429 167.83333333 270.28571429\n",
      " 226.8        224.42857143 167.83333333 112.5        185.66666667\n",
      " 202.75       165.75       270.28571429 152.44444444 178.46666667\n",
      " 189.66666667 200.8        241.66666667 252.5        169.5\n",
      " 260.42857143 161.23076923 238.66666667 179.         161.23076923\n",
      " 141.70588235 226.8        285.         241.66666667 145.71428571\n",
      " 214.36363636 229.42857143 209.71428571 270.28571429 233.91666667\n",
      " 160.5        227.4        218.27777778 281.66666667 141.83333333\n",
      " 214.36363636 264.75       281.66666667 209.15384615 198.33333333\n",
      " 209.71428571 259.65384615 126.33333333 252.73333333 214.18181818\n",
      " 259.65384615 221.         141.70588235 116.         252.73333333\n",
      " 191.         259.65384615 271.         251.16666667 141.70588235\n",
      " 189.77777778 244.         270.28571429 288.5        271.\n",
      " 171.33333333 288.5        235.57894737 136.         181.69230769\n",
      " 145.71428571 179.         235.57894737 259.65384615 241.66666667\n",
      " 154.125      233.91666667 191.         154.125      196.\n",
      " 171.33333333 167.83333333 141.83333333 259.65384615 134.\n",
      " 217.75       167.83333333 176.33333333 136.8        129.\n",
      " 119.8        196.         181.69230769 191.         259.65384615\n",
      " 252.73333333 186.44444444 161.23076923 181.69230769 208.91666667\n",
      " 208.91666667 101.71428571 178.46666667 145.71428571 209.15384615\n",
      " 101.71428571 226.8        186.28571429 218.27777778 194.1875\n",
      " 245.5        259.65384615 198.         239.71428571 270.28571429\n",
      " 251.16666667 209.15384615 233.91666667  93.         235.57894737\n",
      " 198.         241.66666667 271.         119.8        167.5\n",
      " 194.1875     214.18181818 259.65384615 198.         208.\n",
      " 141.70588235 211.         136.8        154.         209.71428571\n",
      " 259.65384615 204.6        196.         194.1875     300.\n",
      " 226.8        178.46666667 126.33333333 162.85714286 154.125\n",
      " 161.23076923 141.70588235 233.91666667 198.         154.125\n",
      " 186.28571429 136.8        226.8        226.8        252.73333333\n",
      " 152.44444444 178.46666667 218.27777778 162.85714286 178.46666667\n",
      " 252.73333333 293.2        191.         277.66666667 235.57894737\n",
      " 241.66666667 161.23076923 186.44444444 141.70588235 214.18181818\n",
      " 252.73333333 209.15384615 171.33333333 143.5        218.27777778\n",
      " 165.75       126.5        186.44444444 204.54545455 270.28571429\n",
      " 178.46666667 154.125      181.69230769 180.         201.16666667\n",
      " 181.69230769 217.75       205.5        251.5        186.44444444\n",
      " 112.5        162.85714286 233.91666667 222.         245.8\n",
      " 200.8        218.27777778 171.33333333 252.73333333 136.8\n",
      " 251.16666667 165.75       233.91666667 259.65384615 221.\n",
      " 209.15384615 189.66666667 181.69230769 208.91666667 245.8\n",
      " 194.1875     241.66666667 218.27777778 285.         259.65384615\n",
      " 241.66666667 300.         204.54545455 136.8        229.42857143\n",
      " 126.33333333 270.28571429 252.5        251.16666667 227.\n",
      " 180.         171.33333333 227.4        208.91666667 178.46666667\n",
      " 101.71428571 214.36363636 182.66666667 239.5        194.1875\n",
      " 235.5        208.91666667 204.54545455 226.8        167.83333333\n",
      " 160.5        141.83333333 182.66666667 198.         161.23076923\n",
      " 168.5        251.5        162.85714286 226.8        201.16666667\n",
      " 208.91666667 229.5        235.57894737 223.         214.18181818\n",
      " 181.         194.1875     204.54545455 218.27777778 191.\n",
      " 152.44444444 226.8        277.66666667 209.71428571 182.66666667\n",
      " 194.1875     200.8        285.         167.83333333 209.15384615\n",
      " 197.         251.16666667 208.91666667 293.2        229.42857143\n",
      " 194.1875     134.         161.23076923 260.42857143 259.65384615\n",
      " 235.57894737 189.77777778 186.28571429 140.5        214.36363636]\n"
     ]
    }
   ],
   "source": [
    "y_pred_dec_reg=dec_reg.predict(X_train)\n",
    "print(y_pred_dec_reg)"
   ]
  },
  {
   "cell_type": "markdown",
   "id": "787433d9",
   "metadata": {},
   "source": [
    "# SCORE"
   ]
  },
  {
   "cell_type": "code",
   "execution_count": 79,
   "id": "b81e0814",
   "metadata": {},
   "outputs": [
    {
     "name": "stdout",
     "output_type": "stream",
     "text": [
      "Score on Test Data :  0.9820306023373031\n",
      "Score on Training Data :  0.9961715353284417\n"
     ]
    }
   ],
   "source": [
    "print(\"Score on Test Data : \",dec_reg.score(X_test,y_test))\n",
    "print(\"Score on Training Data : \",dec_reg.score(X_train,y_train))"
   ]
  },
  {
   "cell_type": "code",
   "execution_count": 80,
   "id": "14f14c64",
   "metadata": {},
   "outputs": [],
   "source": [
    "depth=np.arange(1,20)\n",
    "mae=[]\n",
    "for k in depth:\n",
    "    reg_tree =DecisionTreeRegressor(max_depth=k,min_samples_leaf=5)\n",
    "    reg_tree.fit(X_test,y_test)\n",
    "    y_pred=reg_tree.predict(X_test)\n",
    "    mae.append(np.mean(np.abs(y_test - y_pred)))"
   ]
  },
  {
   "cell_type": "code",
   "execution_count": 81,
   "id": "4aeca839",
   "metadata": {},
   "outputs": [
    {
     "data": {
      "image/png": "[encoded data removed]",
      "text/plain": [
       "<Figure size 432x288 with 1 Axes>"
      ]
     },
     "metadata": {
      "needs_background": "light"
     },
     "output_type": "display_data"
    }
   ],
   "source": [
    "plt.plot(depth,np.array(mae))\n",
    "plt.show()"
   ]
  },
  {
   "cell_type": "code",
   "execution_count": 82,
   "id": "b49db239",
   "metadata": {},
   "outputs": [
    {
     "data": {
      "text/plain": [
       "3.200650793650794"
      ]
     },
     "execution_count": 82,
     "metadata": {},
     "output_type": "execute_result"
    }
   ],
   "source": [
    "#MAE\n",
    "np.mean(np.abs(y_test - y_pred))"
   ]
  },
  {
   "cell_type": "code",
   "execution_count": 83,
   "id": "a379d5b2",
   "metadata": {},
   "outputs": [
    {
     "data": {
      "text/plain": [
       "20.1118015873016"
      ]
     },
     "execution_count": 83,
     "metadata": {},
     "output_type": "execute_result"
    }
   ],
   "source": [
    "#MSE\n",
    "np.mean((y_test - y_pred)**2)"
   ]
  },
  {
   "cell_type": "code",
   "execution_count": 84,
   "id": "9b85af23",
   "metadata": {},
   "outputs": [
    {
     "data": {
      "text/plain": [
       "2.7948014273230606e-15"
      ]
     },
     "execution_count": 84,
     "metadata": {},
     "output_type": "execute_result"
    }
   ],
   "source": [
    "#RMSE\n",
    "np.sqrt(np.mean(y_test -y_pred)**2)"
   ]
  },
  {
   "cell_type": "code",
   "execution_count": 85,
   "id": "c1582be4",
   "metadata": {},
   "outputs": [
    {
     "data": {
      "text/plain": [
       "1.7841088832295355"
      ]
     },
     "execution_count": 85,
     "metadata": {},
     "output_type": "execute_result"
    }
   ],
   "source": [
    "#MAPE\n",
    "np.mean(np.abs(y_test - y_pred)/y_test)*100"
   ]
  },
  {
   "cell_type": "code",
   "execution_count": null,
   "id": "2888e2d5",
   "metadata": {},
   "outputs": [],
   "source": []
  },
  {
   "cell_type": "markdown",
   "id": "018e5a79",
   "metadata": {},
   "source": [
    "## I tried different depths for the decision tree regressor.. Found that 7 and 8 gives the best accuracy..!"
   ]
  },
  {
   "cell_type": "markdown",
   "id": "9989325a",
   "metadata": {},
   "source": [
    "### Here we end our Analysis and Prediction of Students Perfomance Scores..!"
   ]
  },
  {
   "cell_type": "code",
   "execution_count": 86,
   "id": "fa001dcc",
   "metadata": {},
   "outputs": [
    {
     "data": {
      "text/plain": [
       "KNeighborsRegressor(n_neighbors=2)"
      ]
     },
     "execution_count": 86,
     "metadata": {},
     "output_type": "execute_result"
    }
   ],
   "source": [
    "from sklearn.neighbors import KNeighborsRegressor\n",
    "knn_reg = KNeighborsRegressor(n_neighbors=2)\n",
    "knn_reg"
   ]
  },
  {
   "cell_type": "code",
   "execution_count": 87,
   "id": "7c6422b6",
   "metadata": {},
   "outputs": [
    {
     "data": {
      "text/plain": [
       "KNeighborsRegressor(n_neighbors=2)"
      ]
     },
     "execution_count": 87,
     "metadata": {},
     "output_type": "execute_result"
    }
   ],
   "source": [
    "knn_reg.fit(X_train,y_train)"
   ]
  },
  {
   "cell_type": "code",
   "execution_count": 88,
   "id": "3edbdfa0",
   "metadata": {},
   "outputs": [
    {
     "name": "stdout",
     "output_type": "stream",
     "text": [
      "[230.  202.5 151.  192.  196.  210.5 230.  231.  199.  178.  112.  190.5\n",
      " 226.5 246.  227.5 143.  191.5 237.  155.  179.5 263.  224.  218.5 172.\n",
      " 204.5 169.  212.  228.  191.  237.  202.  285.5 272.  161.5 240.  179.\n",
      " 237.  230.  219.5 192.  169.  193.  185.  248.  265.  141.  141.  184.5\n",
      " 279.  210.5 234.  233.  212.5 256.  267.  216.  191.5  99.  164.5 186.\n",
      " 237.5 181.  221.5 201.  187.  237.  195.  176.5 246.5 188.  195.  182.\n",
      " 184.  198.5 173.5 127.  204.  129.  238.  227.5 230.5 247.  186.  221.\n",
      " 126.5 202.  261.  208.5 165.  179.5 178.  193.  191.  268.  217.5 109.5\n",
      " 240.5 260.  201.5 200.5 246.   98.  186.5 258.5 158.5 216.5 247.  174.\n",
      " 289.5 234.  285.  190.5 190.5 215.5 129.5 269.5 217.5 251.  203.  202.\n",
      " 170.5 148.  239.5 195.5 153.  231.  119.5 131.5 170.5 152.5 230.  174.\n",
      " 186.5 114.5 263.  288.5 179.5 192.5 195.5 170.5 185.  270.5 267.5 209.\n",
      " 176.5 209.5  88.5 260.  132.5 256.5 227.  178.5 246.5 240.5 261.  156.\n",
      " 183.5 224.5 233.   96.5  88.5 186.5 226.  213.  234.5 185.  241.5 214.5\n",
      " 233.5 270.5 257.5 232.  161.5 207.5 159.5  97.5 248.  165.  169.5 146.5\n",
      " 207.5 176.5 178.  213.5 259.  190.5 197.5 194.  246.  262.5 112.  173.5\n",
      " 142.5 202.  225.5 204.  169.5 141.  226.5 210.5 185.  290.  276.  232.5\n",
      " 194.  264.  199.  272.  201.5 285.5 186.5 221.  195.5 155.  229.5 284.\n",
      " 183.  294.5 294.  230.5 254.  213.5 219.5 230.  197.   81.  244.5 171.5\n",
      " 258.5 139.  239.5 300.  238.  191.  233.  213.5 229.  191.5 222.  137.\n",
      " 280.5 204.5 195.5 168.  190.  191.  167.5 199.5 207.5 196.  201.  221.5\n",
      " 162.5 156.5 208.  140.  189.5 183.  139.  224.5 229.5 219.5 140.  224.5\n",
      " 114.5  98.  226.5 224.5 237.5 237.  238.  273.  214.5 259.  161.5 212.5\n",
      " 256.5 259.5 220.  181.  267.  184.5 143.  169.5 229.  186.  263.  207.5\n",
      " 204.  174.  255.5 188.5 201.  109.5 300.  230.5 223.  147.  144.  194.\n",
      " 222.5 154.5 147.5 161.  112.5 142.5  99.  176.5 207.  191.5 220.  173.5\n",
      " 163.5 192.5 183.5 227.  257.  219.5 212.  148.  187.  136.5 159.5 190.5\n",
      " 204.5 207.  185.  167.5 180.  218.5 208.  213.  120.5 242.5 161.  116.5\n",
      " 217.  202.5 145.  240.  178.5 199.5 146.5 281.5 194.  300.  197.5 298.5\n",
      " 161.  221.5 237.  183.  272.  241.5 280.5 176.5 217.  201.  244.5 137.\n",
      " 136.5 237.5 206.  212.  206.5 227.5 146.5 267.5 184.  127.  224.5 190.\n",
      " 247.5 270.5 138.  189.  264.  274.  258.  227.  254.5 203.  180.5 183.\n",
      " 281.5 148.  245.5 184.5 169.5 196.5 151.  112.5 179.5 180.5 228.  207.\n",
      " 179.5 207.5 173.5 191.  192.  136.5 227.  181.5 141.5 233.  169.  270.\n",
      " 225.5 267.5 206.5 160.  228.  226.  169.5 229.5 229.5 271.5 164.5 266.\n",
      " 227.5 230.  165.  112.5 184.5 198.  170.5 276.  149.5 180.5 194.  202.\n",
      " 242.5 254.  169.5 259.  167.5 237.5 181.5 165.  146.5 229.  288.5 246.\n",
      " 148.  217.  229.5 210.  266.  236.  160.5 229.5 216.  279.5 145.  212.\n",
      " 264.  282.5 207.5 192.5 209.5 261.  122.5 250.  212.  257.5 221.  141.\n",
      " 116.5 262.5 189.5 258.5 275.5 251.  140.  188.  244.5 267.5 289.5 270.5\n",
      " 177.5 284.5 243.  136.5 180.  145.5 172.  232.5 255.  243.  154.5 237.\n",
      " 192.  153.5 199.  170.5 171.  136.  251.  134.  217.  169.5 179.  136.5\n",
      " 132.5 121.  196.5 185.5 191.5 257.5 250.  187.  161.5 181.  210.5 209.\n",
      " 100.  177.5 144.  210.5 109.  227.5 186.5 213.5 198.  246.  255.5 194.5\n",
      " 239.5 274.  246.  210.5 236.   97.5 237.  199.5 239.5 269.  121.  167.5\n",
      " 193.5 215.5 256.5 198.5 206.5 143.  205.5 137.  153.  209.  263.5 207.\n",
      " 196.5 191.  300.  224.  179.  131.5 162.  155.5 161.  144.5 234.5 199.\n",
      " 153.5 185.  138.  230.  219.5 254.  155.  180.5 220.5 165.  176.5 257.\n",
      " 294.  197.5 279.5 233.  242.  159.5 187.  135.  214.5 247.5 210.5 170.5\n",
      " 140.  215.  166.5 126.5 187.5 204.5 272.5 179.  151.  177.5 180.  200.5\n",
      " 180.  218.5 205.5 252.5 181.  112.5 162.  238.  220.  245.5 198.5 216.\n",
      " 169.5 250.  137.  254.  159.  230.  258.  221.  207.5 188.5 173.5 205.\n",
      " 246.5 197.  242.  216.5 285.5 263.5 237.5 300.  202.  138.  230.5 132.\n",
      " 271.5 244.5 252.5 230.  180.  171.5 230.5 209.5 181.5 100.  216.  183.\n",
      " 238.5 195.5 239.5 208.5 209.  225.5 171.  161.  145.  185.  197.5 160.5\n",
      " 166.  253.  163.5 227.  200.5 210.5 227.  232.5 222.5 218.5 180.  196.\n",
      " 209.  217.5 196.5 154.5 229.  279.5 219.5 183.  199.  203.  285.5 158.5\n",
      " 207.5 196.5 253.5 205.  294.5 226.  192.  134.  157.  259.  255.5 237.\n",
      " 192.  186.  143.  215.5]\n"
     ]
    }
   ],
   "source": [
    "y_pred_knn_reg=knn_reg.predict(X_train)\n",
    "print(y_pred_knn_reg)"
   ]
  },
  {
   "cell_type": "code",
   "execution_count": 89,
   "id": "3671cefc",
   "metadata": {},
   "outputs": [
    {
     "name": "stdout",
     "output_type": "stream",
     "text": [
      "Score on Test Data :  0.9975583145076816\n",
      "Score on Training Data :  0.9990248723427411\n"
     ]
    }
   ],
   "source": [
    "print(\"Score on Test Data : \",knn_reg.score(X_test,y_test))\n",
    "print(\"Score on Training Data : \",knn_reg.score(X_train,y_train))"
   ]
  },
  {
   "cell_type": "code",
   "execution_count": 90,
   "id": "ec832ebb",
   "metadata": {},
   "outputs": [],
   "source": [
    "depth=np.arange(1,20)\n",
    "mae=[]\n",
    "for k in depth:\n",
    "    knn_reg = KNeighborsRegressor(n_neighbors=k)\n",
    "    knn_reg.fit(X_test,y_test)\n",
    "    y_pred=knn_reg.predict(X_test)\n",
    "    mae.append(np.mean(np.abs(y_test - y_pred)))"
   ]
  },
  {
   "cell_type": "code",
   "execution_count": 92,
   "id": "18709c7f",
   "metadata": {},
   "outputs": [
    {
     "data": {
      "image/png": "[encoded data removed]",
      "text/plain": [
       "<Figure size 432x288 with 1 Axes>"
      ]
     },
     "metadata": {
      "needs_background": "light"
     },
     "output_type": "display_data"
    }
   ],
   "source": [
    "plt.plot(depth,np.array(mae))\n",
    "plt.show()"
   ]
  },
  {
   "cell_type": "markdown",
   "id": "6de3dc8f",
   "metadata": {},
   "source": [
    "## I tried different depths for the KNN.. Found that 2 gives the best accuracy..!"
   ]
  },
  {
   "cell_type": "markdown",
   "id": "41fbd52d",
   "metadata": {},
   "source": [
    "## OUT OF THESE TWO MODELS KNN MODEL ACCURACY IS HIGHER .SO,KNN IS THE BEST MODEL FOR THIS DATA."
   ]
  },
  {
   "cell_type": "code",
   "execution_count": null,
   "id": "ba0b88d3",
   "metadata": {},
   "outputs": [],
   "source": []
  }
 ],
 "metadata": {
  "kernelspec": {
   "display_name": "Python 3 (ipykernel)",
   "language": "python",
   "name": "python3"
  },
  "language_info": {
   "codemirror_mode": {
    "name": "ipython",
    "version": 3
   },
   "file_extension": ".py",
   "mimetype": "text/x-python",
   "name": "python",
   "nbconvert_exporter": "python",
   "pygments_lexer": "ipython3",
   "version": "3.9.12"
  },
  "papermill": {
   "default_parameters": {},
   "duration": 20.694658,
   "end_time": "2022-10-18T10:49:11.472986",
   "environment_variables": {},
   "exception": null,
   "input_path": "__notebook__.ipynb",
   "output_path": "__notebook__.ipynb",
   "parameters": {},
   "start_time": "2022-10-18T10:48:50.778328",
   "version": "2.3.4"
  }
 },
 "nbformat": 4,
 "nbformat_minor": 5
}
